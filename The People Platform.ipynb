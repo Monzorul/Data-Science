{
 "cells": [
  {
   "cell_type": "code",
   "execution_count": 1,
   "id": "93605ca8",
   "metadata": {},
   "outputs": [],
   "source": [
    "import numpy as np\n",
    "import pandas as pd\n",
    "import matplotlib.pyplot as plt\n",
    "import seaborn as sns\n",
    "import datetime as dt\n",
    "#import geopandas as gpd\n",
    "%matplotlib inline\n",
    "import warnings\n",
    "warnings.filterwarnings('ignore')"
   ]
  },
  {
   "cell_type": "code",
   "execution_count": 2,
   "id": "57aab101",
   "metadata": {},
   "outputs": [],
   "source": [
    "df = pd.read_csv('pp.csv')"
   ]
  },
  {
   "cell_type": "code",
   "execution_count": 3,
   "id": "9203514d",
   "metadata": {},
   "outputs": [
    {
     "data": {
      "text/html": [
       "<div>\n",
       "<style scoped>\n",
       "    .dataframe tbody tr th:only-of-type {\n",
       "        vertical-align: middle;\n",
       "    }\n",
       "\n",
       "    .dataframe tbody tr th {\n",
       "        vertical-align: top;\n",
       "    }\n",
       "\n",
       "    .dataframe thead th {\n",
       "        text-align: right;\n",
       "    }\n",
       "</style>\n",
       "<table border=\"1\" class=\"dataframe\">\n",
       "  <thead>\n",
       "    <tr style=\"text-align: right;\">\n",
       "      <th></th>\n",
       "      <th>device_id</th>\n",
       "      <th>visit_id</th>\n",
       "      <th>venue_id</th>\n",
       "      <th>visit_start_time</th>\n",
       "      <th>visit_end_time</th>\n",
       "      <th>visit_lat</th>\n",
       "      <th>visit_long</th>\n",
       "      <th>visit_weight</th>\n",
       "      <th>customer_weight</th>\n",
       "      <th>user_home_lat</th>\n",
       "      <th>user_home_long</th>\n",
       "      <th>user_work_lat</th>\n",
       "      <th>user_work_long</th>\n",
       "    </tr>\n",
       "  </thead>\n",
       "  <tbody>\n",
       "    <tr>\n",
       "      <th>0</th>\n",
       "      <td>594a32cf6cffe54257e0cd00</td>\n",
       "      <td>5a73432c3ac6de07416dc662</td>\n",
       "      <td>1e5fcd8d57a10111defbe772</td>\n",
       "      <td>2/1/2018 4:21</td>\n",
       "      <td>2/1/2018 6:40</td>\n",
       "      <td>34.042449</td>\n",
       "      <td>-84.341747</td>\n",
       "      <td>35.509552</td>\n",
       "      <td>0.0</td>\n",
       "      <td>34.054306</td>\n",
       "      <td>-84.299271</td>\n",
       "      <td>33.918793</td>\n",
       "      <td>-84.210145</td>\n",
       "    </tr>\n",
       "    <tr>\n",
       "      <th>1</th>\n",
       "      <td>594a32cf6cffe54257e0cd00</td>\n",
       "      <td>5a74938d877eb20736fd2b4d</td>\n",
       "      <td>1e5fcd8d57a10111defbe772</td>\n",
       "      <td>2/2/2018 4:21</td>\n",
       "      <td>2/2/2018 6:34</td>\n",
       "      <td>34.042457</td>\n",
       "      <td>-84.341828</td>\n",
       "      <td>34.655801</td>\n",
       "      <td>0.0</td>\n",
       "      <td>34.054536</td>\n",
       "      <td>-84.299138</td>\n",
       "      <td>33.917433</td>\n",
       "      <td>-84.209132</td>\n",
       "    </tr>\n",
       "    <tr>\n",
       "      <th>2</th>\n",
       "      <td>594a32cf6cffe54257e0cd00</td>\n",
       "      <td>5a788f7ac6d0690710963748</td>\n",
       "      <td>1e5fcd8d57a10111defbe772</td>\n",
       "      <td>2/5/2018 4:26</td>\n",
       "      <td>2/5/2018 6:20</td>\n",
       "      <td>34.042660</td>\n",
       "      <td>-84.341847</td>\n",
       "      <td>34.229250</td>\n",
       "      <td>0.0</td>\n",
       "      <td>34.054606</td>\n",
       "      <td>-84.301157</td>\n",
       "      <td>33.918846</td>\n",
       "      <td>-84.210032</td>\n",
       "    </tr>\n",
       "    <tr>\n",
       "      <th>3</th>\n",
       "      <td>594a32cf6cffe54257e0cd00</td>\n",
       "      <td>5a79d9bd8233db078de2abd8</td>\n",
       "      <td>1e5fcd8d57a10111defbe772</td>\n",
       "      <td>2/6/2018 4:24</td>\n",
       "      <td>2/6/2018 6:43</td>\n",
       "      <td>34.042539</td>\n",
       "      <td>-84.341908</td>\n",
       "      <td>34.520717</td>\n",
       "      <td>0.0</td>\n",
       "      <td>34.052541</td>\n",
       "      <td>-84.300257</td>\n",
       "      <td>33.917876</td>\n",
       "      <td>-84.211142</td>\n",
       "    </tr>\n",
       "    <tr>\n",
       "      <th>4</th>\n",
       "      <td>594a32cf6cffe54257e0cd00</td>\n",
       "      <td>5a7b2bcac80d6007efda45cc</td>\n",
       "      <td>1e5fcd8d57a10111defbe772</td>\n",
       "      <td>2/7/2018 4:19</td>\n",
       "      <td>2/7/2018 6:10</td>\n",
       "      <td>34.042475</td>\n",
       "      <td>-84.341786</td>\n",
       "      <td>34.339978</td>\n",
       "      <td>0.0</td>\n",
       "      <td>34.054650</td>\n",
       "      <td>-84.301371</td>\n",
       "      <td>33.918330</td>\n",
       "      <td>-84.210130</td>\n",
       "    </tr>\n",
       "    <tr>\n",
       "      <th>...</th>\n",
       "      <td>...</td>\n",
       "      <td>...</td>\n",
       "      <td>...</td>\n",
       "      <td>...</td>\n",
       "      <td>...</td>\n",
       "      <td>...</td>\n",
       "      <td>...</td>\n",
       "      <td>...</td>\n",
       "      <td>...</td>\n",
       "      <td>...</td>\n",
       "      <td>...</td>\n",
       "      <td>...</td>\n",
       "      <td>...</td>\n",
       "    </tr>\n",
       "    <tr>\n",
       "      <th>4660</th>\n",
       "      <td>5bb8220f51397c43486134c0</td>\n",
       "      <td>5c53cb78b9c0d306efc8a559</td>\n",
       "      <td>1e5fcd8d57a10111defbe772</td>\n",
       "      <td>1/31/2019 6:31</td>\n",
       "      <td>1/31/2019 8:01</td>\n",
       "      <td>34.042541</td>\n",
       "      <td>-84.341972</td>\n",
       "      <td>17.896607</td>\n",
       "      <td>0.0</td>\n",
       "      <td>34.229759</td>\n",
       "      <td>-84.112819</td>\n",
       "      <td>33.689488</td>\n",
       "      <td>-84.269628</td>\n",
       "    </tr>\n",
       "    <tr>\n",
       "      <th>4661</th>\n",
       "      <td>5b86546ab123120a1ca275b0</td>\n",
       "      <td>5c53a780d7266605c0e55b36</td>\n",
       "      <td>1e5fcd8d57a10111defbe772</td>\n",
       "      <td>1/31/2019 7:21</td>\n",
       "      <td>1/31/2019 7:40</td>\n",
       "      <td>34.042458</td>\n",
       "      <td>-84.342110</td>\n",
       "      <td>42.568818</td>\n",
       "      <td>0.0</td>\n",
       "      <td>34.033257</td>\n",
       "      <td>-84.327624</td>\n",
       "      <td>NaN</td>\n",
       "      <td>NaN</td>\n",
       "    </tr>\n",
       "    <tr>\n",
       "      <th>4662</th>\n",
       "      <td>5bab3554fa92310a3958d0b9</td>\n",
       "      <td>5c54b5d038a80e068a649478</td>\n",
       "      <td>1e5fcd8d57a10111defbe772</td>\n",
       "      <td>1/31/2019 20:00</td>\n",
       "      <td>1/31/2019 20:45</td>\n",
       "      <td>34.042603</td>\n",
       "      <td>-84.341873</td>\n",
       "      <td>27.340460</td>\n",
       "      <td>0.0</td>\n",
       "      <td>34.062414</td>\n",
       "      <td>-84.369323</td>\n",
       "      <td>34.207586</td>\n",
       "      <td>-84.137931</td>\n",
       "    </tr>\n",
       "    <tr>\n",
       "      <th>4663</th>\n",
       "      <td>59e8d4a56cffe51a61744066</td>\n",
       "      <td>5c54979b8452a0064be98569</td>\n",
       "      <td>1e5fcd8d57a10111defbe772</td>\n",
       "      <td>1/31/2019 20:00</td>\n",
       "      <td>1/31/2019 20:44</td>\n",
       "      <td>34.042564</td>\n",
       "      <td>-84.341812</td>\n",
       "      <td>20.062158</td>\n",
       "      <td>0.0</td>\n",
       "      <td>34.062892</td>\n",
       "      <td>-84.367646</td>\n",
       "      <td>33.927882</td>\n",
       "      <td>-84.347105</td>\n",
       "    </tr>\n",
       "    <tr>\n",
       "      <th>4664</th>\n",
       "      <td>5bb6ad66789bc04fcf56d60f</td>\n",
       "      <td>5c54d4018452a006674e5df2</td>\n",
       "      <td>1e5fcd8d57a10111defbe772</td>\n",
       "      <td>1/31/2019 20:03</td>\n",
       "      <td>1/31/2019 20:45</td>\n",
       "      <td>34.042831</td>\n",
       "      <td>-84.341690</td>\n",
       "      <td>27.340460</td>\n",
       "      <td>0.0</td>\n",
       "      <td>34.063416</td>\n",
       "      <td>-84.368529</td>\n",
       "      <td>33.847336</td>\n",
       "      <td>-84.370671</td>\n",
       "    </tr>\n",
       "  </tbody>\n",
       "</table>\n",
       "<p>4665 rows × 13 columns</p>\n",
       "</div>"
      ],
      "text/plain": [
       "                     device_id                  visit_id  \\\n",
       "0     594a32cf6cffe54257e0cd00  5a73432c3ac6de07416dc662   \n",
       "1     594a32cf6cffe54257e0cd00  5a74938d877eb20736fd2b4d   \n",
       "2     594a32cf6cffe54257e0cd00  5a788f7ac6d0690710963748   \n",
       "3     594a32cf6cffe54257e0cd00  5a79d9bd8233db078de2abd8   \n",
       "4     594a32cf6cffe54257e0cd00  5a7b2bcac80d6007efda45cc   \n",
       "...                        ...                       ...   \n",
       "4660  5bb8220f51397c43486134c0  5c53cb78b9c0d306efc8a559   \n",
       "4661  5b86546ab123120a1ca275b0  5c53a780d7266605c0e55b36   \n",
       "4662  5bab3554fa92310a3958d0b9  5c54b5d038a80e068a649478   \n",
       "4663  59e8d4a56cffe51a61744066  5c54979b8452a0064be98569   \n",
       "4664  5bb6ad66789bc04fcf56d60f  5c54d4018452a006674e5df2   \n",
       "\n",
       "                      venue_id visit_start_time   visit_end_time  visit_lat  \\\n",
       "0     1e5fcd8d57a10111defbe772    2/1/2018 4:21    2/1/2018 6:40  34.042449   \n",
       "1     1e5fcd8d57a10111defbe772    2/2/2018 4:21    2/2/2018 6:34  34.042457   \n",
       "2     1e5fcd8d57a10111defbe772    2/5/2018 4:26    2/5/2018 6:20  34.042660   \n",
       "3     1e5fcd8d57a10111defbe772    2/6/2018 4:24    2/6/2018 6:43  34.042539   \n",
       "4     1e5fcd8d57a10111defbe772    2/7/2018 4:19    2/7/2018 6:10  34.042475   \n",
       "...                        ...              ...              ...        ...   \n",
       "4660  1e5fcd8d57a10111defbe772   1/31/2019 6:31   1/31/2019 8:01  34.042541   \n",
       "4661  1e5fcd8d57a10111defbe772   1/31/2019 7:21   1/31/2019 7:40  34.042458   \n",
       "4662  1e5fcd8d57a10111defbe772  1/31/2019 20:00  1/31/2019 20:45  34.042603   \n",
       "4663  1e5fcd8d57a10111defbe772  1/31/2019 20:00  1/31/2019 20:44  34.042564   \n",
       "4664  1e5fcd8d57a10111defbe772  1/31/2019 20:03  1/31/2019 20:45  34.042831   \n",
       "\n",
       "      visit_long  visit_weight  customer_weight  user_home_lat  \\\n",
       "0     -84.341747     35.509552              0.0      34.054306   \n",
       "1     -84.341828     34.655801              0.0      34.054536   \n",
       "2     -84.341847     34.229250              0.0      34.054606   \n",
       "3     -84.341908     34.520717              0.0      34.052541   \n",
       "4     -84.341786     34.339978              0.0      34.054650   \n",
       "...          ...           ...              ...            ...   \n",
       "4660  -84.341972     17.896607              0.0      34.229759   \n",
       "4661  -84.342110     42.568818              0.0      34.033257   \n",
       "4662  -84.341873     27.340460              0.0      34.062414   \n",
       "4663  -84.341812     20.062158              0.0      34.062892   \n",
       "4664  -84.341690     27.340460              0.0      34.063416   \n",
       "\n",
       "      user_home_long  user_work_lat  user_work_long  \n",
       "0         -84.299271      33.918793      -84.210145  \n",
       "1         -84.299138      33.917433      -84.209132  \n",
       "2         -84.301157      33.918846      -84.210032  \n",
       "3         -84.300257      33.917876      -84.211142  \n",
       "4         -84.301371      33.918330      -84.210130  \n",
       "...              ...            ...             ...  \n",
       "4660      -84.112819      33.689488      -84.269628  \n",
       "4661      -84.327624            NaN             NaN  \n",
       "4662      -84.369323      34.207586      -84.137931  \n",
       "4663      -84.367646      33.927882      -84.347105  \n",
       "4664      -84.368529      33.847336      -84.370671  \n",
       "\n",
       "[4665 rows x 13 columns]"
      ]
     },
     "execution_count": 3,
     "metadata": {},
     "output_type": "execute_result"
    }
   ],
   "source": [
    "df"
   ]
  },
  {
   "cell_type": "code",
   "execution_count": 4,
   "id": "c867f21b",
   "metadata": {},
   "outputs": [
    {
     "data": {
      "text/plain": [
       "device_id            654\n",
       "visit_id            4665\n",
       "venue_id               1\n",
       "visit_start_time    4569\n",
       "visit_end_time      4543\n",
       "visit_lat            971\n",
       "visit_long          1250\n",
       "visit_weight        3460\n",
       "customer_weight      125\n",
       "user_home_lat       4664\n",
       "user_home_long      4664\n",
       "user_work_lat       3918\n",
       "user_work_long      3918\n",
       "dtype: int64"
      ]
     },
     "execution_count": 4,
     "metadata": {},
     "output_type": "execute_result"
    }
   ],
   "source": [
    "df.nunique()"
   ]
  },
  {
   "cell_type": "code",
   "execution_count": 5,
   "id": "f7c8e56a",
   "metadata": {},
   "outputs": [
    {
     "data": {
      "text/plain": [
       "34.04251812726919"
      ]
     },
     "execution_count": 5,
     "metadata": {},
     "output_type": "execute_result"
    }
   ],
   "source": [
    "df.visit_lat.mean()"
   ]
  },
  {
   "cell_type": "code",
   "execution_count": 6,
   "id": "6a41f1a1",
   "metadata": {},
   "outputs": [
    {
     "data": {
      "text/plain": [
       "-84.34188311294976"
      ]
     },
     "execution_count": 6,
     "metadata": {},
     "output_type": "execute_result"
    }
   ],
   "source": [
    "df.visit_long.mean()"
   ]
  },
  {
   "cell_type": "code",
   "execution_count": 7,
   "id": "131b47af",
   "metadata": {},
   "outputs": [
    {
     "data": {
      "text/plain": [
       "31.633412452786644"
      ]
     },
     "execution_count": 7,
     "metadata": {},
     "output_type": "execute_result"
    }
   ],
   "source": [
    "df.visit_weight.mean()"
   ]
  },
  {
   "cell_type": "code",
   "execution_count": 8,
   "id": "f3c07122",
   "metadata": {},
   "outputs": [
    {
     "data": {
      "text/plain": [
       "26.190206023286045"
      ]
     },
     "execution_count": 8,
     "metadata": {},
     "output_type": "execute_result"
    }
   ],
   "source": [
    "df.customer_weight.mean()"
   ]
  },
  {
   "cell_type": "code",
   "execution_count": 9,
   "id": "3036e4ec",
   "metadata": {},
   "outputs": [
    {
     "data": {
      "text/plain": [
       "34.03745112309543"
      ]
     },
     "execution_count": 9,
     "metadata": {},
     "output_type": "execute_result"
    }
   ],
   "source": [
    "df.user_home_lat.mean()"
   ]
  },
  {
   "cell_type": "code",
   "execution_count": 10,
   "id": "74ce412a",
   "metadata": {},
   "outputs": [
    {
     "data": {
      "text/plain": [
       "-84.47988073734597"
      ]
     },
     "execution_count": 10,
     "metadata": {},
     "output_type": "execute_result"
    }
   ],
   "source": [
    "df.user_home_long.mean()"
   ]
  },
  {
   "cell_type": "code",
   "execution_count": 11,
   "id": "1cb7f8d4",
   "metadata": {},
   "outputs": [
    {
     "data": {
      "text/plain": [
       "34.00812814963509"
      ]
     },
     "execution_count": 11,
     "metadata": {},
     "output_type": "execute_result"
    }
   ],
   "source": [
    "df.user_work_lat.mean()"
   ]
  },
  {
   "cell_type": "code",
   "execution_count": 12,
   "id": "c7dc3aad",
   "metadata": {},
   "outputs": [
    {
     "data": {
      "text/plain": [
       "-84.36340834442565"
      ]
     },
     "execution_count": 12,
     "metadata": {},
     "output_type": "execute_result"
    }
   ],
   "source": [
    "df.user_work_long.mean()"
   ]
  },
  {
   "cell_type": "code",
   "execution_count": 13,
   "id": "355d5170",
   "metadata": {},
   "outputs": [
    {
     "data": {
      "text/plain": [
       "device_id             0\n",
       "visit_id              0\n",
       "venue_id              0\n",
       "visit_start_time      0\n",
       "visit_end_time        0\n",
       "visit_lat             0\n",
       "visit_long            0\n",
       "visit_weight          0\n",
       "customer_weight       0\n",
       "user_home_lat         0\n",
       "user_home_long        0\n",
       "user_work_lat       747\n",
       "user_work_long      747\n",
       "dtype: int64"
      ]
     },
     "execution_count": 13,
     "metadata": {},
     "output_type": "execute_result"
    }
   ],
   "source": [
    "df.isnull().sum()  "
   ]
  },
  {
   "cell_type": "code",
   "execution_count": 14,
   "id": "6fb01b35",
   "metadata": {},
   "outputs": [],
   "source": [
    "missing1 = df.user_work_lat.mean()"
   ]
  },
  {
   "cell_type": "code",
   "execution_count": 15,
   "id": "b238300b",
   "metadata": {},
   "outputs": [],
   "source": [
    "df.user_work_lat = df.user_work_lat.fillna('missing1')"
   ]
  },
  {
   "cell_type": "code",
   "execution_count": 16,
   "id": "3554921c",
   "metadata": {},
   "outputs": [],
   "source": [
    "missing2 = df.user_work_long.mean()"
   ]
  },
  {
   "cell_type": "code",
   "execution_count": 17,
   "id": "126b867e",
   "metadata": {},
   "outputs": [],
   "source": [
    "df.user_work_long = df.user_work_long.fillna('missing2')"
   ]
  },
  {
   "cell_type": "code",
   "execution_count": 18,
   "id": "37ee90c3",
   "metadata": {},
   "outputs": [
    {
     "data": {
      "text/plain": [
       "device_id           0\n",
       "visit_id            0\n",
       "venue_id            0\n",
       "visit_start_time    0\n",
       "visit_end_time      0\n",
       "visit_lat           0\n",
       "visit_long          0\n",
       "visit_weight        0\n",
       "customer_weight     0\n",
       "user_home_lat       0\n",
       "user_home_long      0\n",
       "user_work_lat       0\n",
       "user_work_long      0\n",
       "dtype: int64"
      ]
     },
     "execution_count": 18,
     "metadata": {},
     "output_type": "execute_result"
    }
   ],
   "source": [
    "df.isnull().sum()"
   ]
  },
  {
   "cell_type": "code",
   "execution_count": 19,
   "id": "5509c57d",
   "metadata": {},
   "outputs": [
    {
     "data": {
      "text/plain": [
       "False"
      ]
     },
     "execution_count": 19,
     "metadata": {},
     "output_type": "execute_result"
    }
   ],
   "source": [
    "df.duplicated().any()"
   ]
  },
  {
   "cell_type": "code",
   "execution_count": 20,
   "id": "9ccccd57",
   "metadata": {},
   "outputs": [
    {
     "data": {
      "image/png": "[encoded data removed]",
      "text/plain": [
       "<Figure size 432x288 with 6 Axes>"
      ]
     },
     "metadata": {
      "needs_background": "light"
     },
     "output_type": "display_data"
    }
   ],
   "source": [
    "df.hist()\n",
    "plt.show()"
   ]
  },
  {
   "cell_type": "code",
   "execution_count": 21,
   "id": "1edbd1e5",
   "metadata": {},
   "outputs": [
    {
     "data": {
      "text/html": [
       "<div>\n",
       "<style scoped>\n",
       "    .dataframe tbody tr th:only-of-type {\n",
       "        vertical-align: middle;\n",
       "    }\n",
       "\n",
       "    .dataframe tbody tr th {\n",
       "        vertical-align: top;\n",
       "    }\n",
       "\n",
       "    .dataframe thead th {\n",
       "        text-align: right;\n",
       "    }\n",
       "</style>\n",
       "<table border=\"1\" class=\"dataframe\">\n",
       "  <thead>\n",
       "    <tr style=\"text-align: right;\">\n",
       "      <th></th>\n",
       "      <th>count</th>\n",
       "      <th>mean</th>\n",
       "      <th>std</th>\n",
       "      <th>min</th>\n",
       "      <th>25%</th>\n",
       "      <th>50%</th>\n",
       "      <th>75%</th>\n",
       "      <th>max</th>\n",
       "    </tr>\n",
       "  </thead>\n",
       "  <tbody>\n",
       "    <tr>\n",
       "      <th>visit_lat</th>\n",
       "      <td>4665.0</td>\n",
       "      <td>34.042518</td>\n",
       "      <td>0.000114</td>\n",
       "      <td>34.041801</td>\n",
       "      <td>34.042465</td>\n",
       "      <td>34.042515</td>\n",
       "      <td>34.042566</td>\n",
       "      <td>34.043159</td>\n",
       "    </tr>\n",
       "    <tr>\n",
       "      <th>visit_long</th>\n",
       "      <td>4665.0</td>\n",
       "      <td>-84.341883</td>\n",
       "      <td>0.000221</td>\n",
       "      <td>-84.343391</td>\n",
       "      <td>-84.342018</td>\n",
       "      <td>-84.341835</td>\n",
       "      <td>-84.341736</td>\n",
       "      <td>-84.341125</td>\n",
       "    </tr>\n",
       "    <tr>\n",
       "      <th>visit_weight</th>\n",
       "      <td>4665.0</td>\n",
       "      <td>31.633412</td>\n",
       "      <td>16.771900</td>\n",
       "      <td>7.706278</td>\n",
       "      <td>22.465854</td>\n",
       "      <td>28.729092</td>\n",
       "      <td>34.716838</td>\n",
       "      <td>183.033562</td>\n",
       "    </tr>\n",
       "    <tr>\n",
       "      <th>customer_weight</th>\n",
       "      <td>4665.0</td>\n",
       "      <td>26.190206</td>\n",
       "      <td>74.280995</td>\n",
       "      <td>0.000000</td>\n",
       "      <td>0.000000</td>\n",
       "      <td>0.000000</td>\n",
       "      <td>52.087857</td>\n",
       "      <td>752.172979</td>\n",
       "    </tr>\n",
       "    <tr>\n",
       "      <th>user_home_lat</th>\n",
       "      <td>4665.0</td>\n",
       "      <td>34.037451</td>\n",
       "      <td>0.616202</td>\n",
       "      <td>24.567692</td>\n",
       "      <td>34.020583</td>\n",
       "      <td>34.039154</td>\n",
       "      <td>34.057805</td>\n",
       "      <td>47.885243</td>\n",
       "    </tr>\n",
       "    <tr>\n",
       "      <th>user_home_long</th>\n",
       "      <td>4665.0</td>\n",
       "      <td>-84.479881</td>\n",
       "      <td>2.024699</td>\n",
       "      <td>-122.259301</td>\n",
       "      <td>-84.377689</td>\n",
       "      <td>-84.345723</td>\n",
       "      <td>-84.324316</td>\n",
       "      <td>-77.757116</td>\n",
       "    </tr>\n",
       "  </tbody>\n",
       "</table>\n",
       "</div>"
      ],
      "text/plain": [
       "                  count       mean        std         min        25%  \\\n",
       "visit_lat        4665.0  34.042518   0.000114   34.041801  34.042465   \n",
       "visit_long       4665.0 -84.341883   0.000221  -84.343391 -84.342018   \n",
       "visit_weight     4665.0  31.633412  16.771900    7.706278  22.465854   \n",
       "customer_weight  4665.0  26.190206  74.280995    0.000000   0.000000   \n",
       "user_home_lat    4665.0  34.037451   0.616202   24.567692  34.020583   \n",
       "user_home_long   4665.0 -84.479881   2.024699 -122.259301 -84.377689   \n",
       "\n",
       "                       50%        75%         max  \n",
       "visit_lat        34.042515  34.042566   34.043159  \n",
       "visit_long      -84.341835 -84.341736  -84.341125  \n",
       "visit_weight     28.729092  34.716838  183.033562  \n",
       "customer_weight   0.000000  52.087857  752.172979  \n",
       "user_home_lat    34.039154  34.057805   47.885243  \n",
       "user_home_long  -84.345723 -84.324316  -77.757116  "
      ]
     },
     "execution_count": 21,
     "metadata": {},
     "output_type": "execute_result"
    }
   ],
   "source": [
    "df.describe().T"
   ]
  },
  {
   "cell_type": "code",
   "execution_count": 22,
   "id": "8115d9fe",
   "metadata": {},
   "outputs": [
    {
     "name": "stdout",
     "output_type": "stream",
     "text": [
      "Result1:  12.731759718941298 km\n"
     ]
    }
   ],
   "source": [
    "#Distance from home\n",
    "from math import sin, cos, sqrt, atan2, radians\n",
    "\n",
    "# Approximate radius of earth in km\n",
    "R = 6373.0\n",
    "\n",
    "lat1 = radians(34.04251812726919)\n",
    "lon1 = radians(-84.34188311294976)\n",
    "lat2 = radians(34.03745112309543)\n",
    "lon2 = radians(-84.47988073734597)\n",
    "\n",
    "dlon = lon2 - lon1\n",
    "dlat = lat2 - lat1\n",
    "\n",
    "a = sin(dlat / 2)**2 + cos(lat1) * cos(lat2) * sin(dlon / 2)**2\n",
    "c = 2 * atan2(sqrt(a), sqrt(1 - a))\n",
    "\n",
    "distance1 = R * c\n",
    "\n",
    "print(\"Result1: \", distance1, 'km')"
   ]
  },
  {
   "cell_type": "code",
   "execution_count": 23,
   "id": "97338aa4",
   "metadata": {},
   "outputs": [
    {
     "name": "stdout",
     "output_type": "stream",
     "text": [
      "Result2:  4.309252056964613 km\n"
     ]
    }
   ],
   "source": [
    "#Distance from work\n",
    "from math import sin, cos, sqrt, atan2, radians\n",
    "\n",
    "# Approximate radius of earth in km\n",
    "R = 6373.0\n",
    "\n",
    "lat1 = radians(34.04251812726919)\n",
    "lon1 = radians(-84.34188311294976)\n",
    "lat2 = radians(34.00812814963509)\n",
    "lon2 = radians(-84.36340834442565)\n",
    "\n",
    "dlon = lon2 - lon1\n",
    "dlat = lat2 - lat1\n",
    "\n",
    "a = sin(dlat / 2)**2 + cos(lat1) * cos(lat2) * sin(dlon / 2)**2\n",
    "c = 2 * atan2(sqrt(a), sqrt(1 - a))\n",
    "\n",
    "distance2 = R * c\n",
    "\n",
    "print(\"Result2: \", distance2, 'km')"
   ]
  },
  {
   "cell_type": "code",
   "execution_count": 24,
   "id": "2040b72a",
   "metadata": {},
   "outputs": [
    {
     "name": "stdout",
     "output_type": "stream",
     "text": [
      "Total distance: 17.04101177590591 km\n"
     ]
    }
   ],
   "source": [
    "print('Total distance:',(12.731759718941298 + 4.309252056964613),'km')"
   ]
  },
  {
   "cell_type": "code",
   "execution_count": 25,
   "id": "63186754",
   "metadata": {},
   "outputs": [
    {
     "data": {
      "text/plain": [
       "147569.86909225"
      ]
     },
     "execution_count": 25,
     "metadata": {},
     "output_type": "execute_result"
    }
   ],
   "source": [
    "df.visit_weight.sum()"
   ]
  },
  {
   "cell_type": "code",
   "execution_count": 26,
   "id": "6f3583f3",
   "metadata": {},
   "outputs": [
    {
     "data": {
      "text/plain": [
       "122177.31109863"
      ]
     },
     "execution_count": 26,
     "metadata": {},
     "output_type": "execute_result"
    }
   ],
   "source": [
    "df.customer_weight.sum()"
   ]
  },
  {
   "cell_type": "code",
   "execution_count": 27,
   "id": "1e8c7867",
   "metadata": {},
   "outputs": [
    {
     "name": "stdout",
     "output_type": "stream",
     "text": [
      "232 days 11:59:00\n"
     ]
    }
   ],
   "source": [
    "# convert columns to datetime\n",
    "df['visit_start_time'] = pd.to_datetime(df['visit_start_time'])\n",
    "df['visit_end_time'] = pd.to_datetime(df['visit_end_time'])\n",
    "\n",
    "# calculate time difference\n",
    "total_time_diff = df['visit_end_time'] - df['visit_start_time']\n",
    "total_time_diff_sum = total_time_diff.sum()\n",
    "\n",
    "# print the result\n",
    "print(total_time_diff_sum)"
   ]
  },
  {
   "cell_type": "code",
   "execution_count": 28,
   "id": "a314ed75",
   "metadata": {},
   "outputs": [
    {
     "data": {
      "text/plain": [
       "5568"
      ]
     },
     "execution_count": 28,
     "metadata": {},
     "output_type": "execute_result"
    }
   ],
   "source": [
    "232*24"
   ]
  },
  {
   "cell_type": "code",
   "execution_count": 29,
   "id": "8ce19ec6",
   "metadata": {},
   "outputs": [
    {
     "data": {
      "text/plain": [
       "98.33333333333333"
      ]
     },
     "execution_count": 29,
     "metadata": {},
     "output_type": "execute_result"
    }
   ],
   "source": [
    "(59*100)/60"
   ]
  },
  {
   "cell_type": "code",
   "execution_count": 30,
   "id": "1d3e4c68",
   "metadata": {},
   "outputs": [
    {
     "name": "stdout",
     "output_type": "stream",
     "text": [
      "5677.333 h\n"
     ]
    }
   ],
   "source": [
    "print((5568+11+98.333),'h')"
   ]
  },
  {
   "cell_type": "code",
   "execution_count": 31,
   "id": "30481f47",
   "metadata": {},
   "outputs": [
    {
     "data": {
      "text/plain": [
       "('visit_weight:', 25.99281548083405)"
      ]
     },
     "execution_count": 31,
     "metadata": {},
     "output_type": "execute_result"
    }
   ],
   "source": [
    "'visit_weight:',147569.86909225/5677.333"
   ]
  },
  {
   "cell_type": "code",
   "execution_count": 32,
   "id": "a1fd2e34",
   "metadata": {},
   "outputs": [
    {
     "data": {
      "text/plain": [
       "('customer_weight:', 21.906045613311957)"
      ]
     },
     "execution_count": 32,
     "metadata": {},
     "output_type": "execute_result"
    }
   ],
   "source": [
    "'customer_weight:',122177.31109863/5577.333"
   ]
  },
  {
   "cell_type": "code",
   "execution_count": 53,
   "id": "167d930c",
   "metadata": {},
   "outputs": [],
   "source": [
    "final_data1 = pd.DataFrame({'Gym Name':['10790 Alpharetta Hwy','1570 Holcomb Bridge Road','13071 Highway 9, Milton','299 Molly Lane'],\n",
    "                          'Distance':[17.04, 8.08, 4.33, 8.55]})"
   ]
  },
  {
   "cell_type": "code",
   "execution_count": 54,
   "id": "ec2ffd58",
   "metadata": {},
   "outputs": [
    {
     "data": {
      "text/html": [
       "<div>\n",
       "<style scoped>\n",
       "    .dataframe tbody tr th:only-of-type {\n",
       "        vertical-align: middle;\n",
       "    }\n",
       "\n",
       "    .dataframe tbody tr th {\n",
       "        vertical-align: top;\n",
       "    }\n",
       "\n",
       "    .dataframe thead th {\n",
       "        text-align: right;\n",
       "    }\n",
       "</style>\n",
       "<table border=\"1\" class=\"dataframe\">\n",
       "  <thead>\n",
       "    <tr style=\"text-align: right;\">\n",
       "      <th></th>\n",
       "      <th>Gym Name</th>\n",
       "      <th>Distance</th>\n",
       "    </tr>\n",
       "  </thead>\n",
       "  <tbody>\n",
       "    <tr>\n",
       "      <th>0</th>\n",
       "      <td>10790 Alpharetta Hwy</td>\n",
       "      <td>17.04</td>\n",
       "    </tr>\n",
       "    <tr>\n",
       "      <th>1</th>\n",
       "      <td>1570 Holcomb Bridge Road</td>\n",
       "      <td>8.08</td>\n",
       "    </tr>\n",
       "    <tr>\n",
       "      <th>2</th>\n",
       "      <td>13071 Highway 9, Milton</td>\n",
       "      <td>4.33</td>\n",
       "    </tr>\n",
       "    <tr>\n",
       "      <th>3</th>\n",
       "      <td>299 Molly Lane</td>\n",
       "      <td>8.55</td>\n",
       "    </tr>\n",
       "  </tbody>\n",
       "</table>\n",
       "</div>"
      ],
      "text/plain": [
       "                   Gym Name  Distance\n",
       "0      10790 Alpharetta Hwy     17.04\n",
       "1  1570 Holcomb Bridge Road      8.08\n",
       "2   13071 Highway 9, Milton      4.33\n",
       "3            299 Molly Lane      8.55"
      ]
     },
     "execution_count": 54,
     "metadata": {},
     "output_type": "execute_result"
    }
   ],
   "source": [
    "final_data1"
   ]
  },
  {
   "cell_type": "code",
   "execution_count": 55,
   "id": "990ce8ee",
   "metadata": {},
   "outputs": [
    {
     "data": {
      "text/plain": [
       "<AxesSubplot:xlabel='Gym Name', ylabel='Distance'>"
      ]
     },
     "execution_count": 55,
     "metadata": {},
     "output_type": "execute_result"
    },
    {
     "data": {
      "image/png": "[encoded data removed]",
      "text/plain": [
       "<Figure size 720x432 with 1 Axes>"
      ]
     },
     "metadata": {
      "needs_background": "light"
     },
     "output_type": "display_data"
    }
   ],
   "source": [
    "plt.figure(figsize=(10,6))\n",
    "sns.barplot(final_data1['Gym Name'],final_data1['Distance'])"
   ]
  },
  {
   "cell_type": "code",
   "execution_count": 59,
   "id": "60a1c4d3",
   "metadata": {},
   "outputs": [],
   "source": [
    "final_data2 = pd.DataFrame({'Gym Name':['10790 Alpharetta Hwy','1570 Holcomb Bridge Road','13071 Highway 9, Milton','299 Molly Lane'],\n",
    "                          'Visit_weight':[25.99, 24.08, 20.49, 22.29]})"
   ]
  },
  {
   "cell_type": "code",
   "execution_count": 60,
   "id": "f48ba82e",
   "metadata": {},
   "outputs": [
    {
     "data": {
      "text/html": [
       "<div>\n",
       "<style scoped>\n",
       "    .dataframe tbody tr th:only-of-type {\n",
       "        vertical-align: middle;\n",
       "    }\n",
       "\n",
       "    .dataframe tbody tr th {\n",
       "        vertical-align: top;\n",
       "    }\n",
       "\n",
       "    .dataframe thead th {\n",
       "        text-align: right;\n",
       "    }\n",
       "</style>\n",
       "<table border=\"1\" class=\"dataframe\">\n",
       "  <thead>\n",
       "    <tr style=\"text-align: right;\">\n",
       "      <th></th>\n",
       "      <th>Gym Name</th>\n",
       "      <th>Visit_weight</th>\n",
       "    </tr>\n",
       "  </thead>\n",
       "  <tbody>\n",
       "    <tr>\n",
       "      <th>0</th>\n",
       "      <td>10790 Alpharetta Hwy</td>\n",
       "      <td>25.99</td>\n",
       "    </tr>\n",
       "    <tr>\n",
       "      <th>1</th>\n",
       "      <td>1570 Holcomb Bridge Road</td>\n",
       "      <td>24.08</td>\n",
       "    </tr>\n",
       "    <tr>\n",
       "      <th>2</th>\n",
       "      <td>13071 Highway 9, Milton</td>\n",
       "      <td>20.49</td>\n",
       "    </tr>\n",
       "    <tr>\n",
       "      <th>3</th>\n",
       "      <td>299 Molly Lane</td>\n",
       "      <td>22.29</td>\n",
       "    </tr>\n",
       "  </tbody>\n",
       "</table>\n",
       "</div>"
      ],
      "text/plain": [
       "                   Gym Name  Visit_weight\n",
       "0      10790 Alpharetta Hwy         25.99\n",
       "1  1570 Holcomb Bridge Road         24.08\n",
       "2   13071 Highway 9, Milton         20.49\n",
       "3            299 Molly Lane         22.29"
      ]
     },
     "execution_count": 60,
     "metadata": {},
     "output_type": "execute_result"
    }
   ],
   "source": [
    "final_data2"
   ]
  },
  {
   "cell_type": "code",
   "execution_count": 61,
   "id": "01192190",
   "metadata": {},
   "outputs": [
    {
     "data": {
      "text/plain": [
       "<AxesSubplot:xlabel='Gym Name', ylabel='Visit_weight'>"
      ]
     },
     "execution_count": 61,
     "metadata": {},
     "output_type": "execute_result"
    },
    {
     "data": {
      "image/png": "[encoded data removed]",
      "text/plain": [
       "<Figure size 720x432 with 1 Axes>"
      ]
     },
     "metadata": {
      "needs_background": "light"
     },
     "output_type": "display_data"
    }
   ],
   "source": []
  },
  {
   "cell_type": "code",
   "execution_count": 63,
   "id": "ff87171e",
   "metadata": {},
   "outputs": [],
   "source": [
    "final_data3 = pd.DataFrame({'Gym Name':['10790 Alpharetta Hwy','1570 Holcomb Bridge Road','13071 Highway 9, Milton','299 Molly Lane'],\n",
    "                          'Customer_weight':[21.90, 21.79, 15.06, 17.93]})"
   ]
  },
  {
   "cell_type": "code",
   "execution_count": 64,
   "id": "8745fe69",
   "metadata": {},
   "outputs": [
    {
     "data": {
      "text/html": [
       "<div>\n",
       "<style scoped>\n",
       "    .dataframe tbody tr th:only-of-type {\n",
       "        vertical-align: middle;\n",
       "    }\n",
       "\n",
       "    .dataframe tbody tr th {\n",
       "        vertical-align: top;\n",
       "    }\n",
       "\n",
       "    .dataframe thead th {\n",
       "        text-align: right;\n",
       "    }\n",
       "</style>\n",
       "<table border=\"1\" class=\"dataframe\">\n",
       "  <thead>\n",
       "    <tr style=\"text-align: right;\">\n",
       "      <th></th>\n",
       "      <th>Gym Name</th>\n",
       "      <th>Customer_weight</th>\n",
       "    </tr>\n",
       "  </thead>\n",
       "  <tbody>\n",
       "    <tr>\n",
       "      <th>0</th>\n",
       "      <td>10790 Alpharetta Hwy</td>\n",
       "      <td>21.90</td>\n",
       "    </tr>\n",
       "    <tr>\n",
       "      <th>1</th>\n",
       "      <td>1570 Holcomb Bridge Road</td>\n",
       "      <td>21.79</td>\n",
       "    </tr>\n",
       "    <tr>\n",
       "      <th>2</th>\n",
       "      <td>13071 Highway 9, Milton</td>\n",
       "      <td>15.06</td>\n",
       "    </tr>\n",
       "    <tr>\n",
       "      <th>3</th>\n",
       "      <td>299 Molly Lane</td>\n",
       "      <td>17.93</td>\n",
       "    </tr>\n",
       "  </tbody>\n",
       "</table>\n",
       "</div>"
      ],
      "text/plain": [
       "                   Gym Name  Customer_weight\n",
       "0      10790 Alpharetta Hwy            21.90\n",
       "1  1570 Holcomb Bridge Road            21.79\n",
       "2   13071 Highway 9, Milton            15.06\n",
       "3            299 Molly Lane            17.93"
      ]
     },
     "execution_count": 64,
     "metadata": {},
     "output_type": "execute_result"
    }
   ],
   "source": [
    "final_data3"
   ]
  },
  {
   "cell_type": "code",
   "execution_count": 65,
   "id": "7948953d",
   "metadata": {},
   "outputs": [
    {
     "data": {
      "text/plain": [
       "<AxesSubplot:xlabel='Gym Name', ylabel='Customer_weight'>"
      ]
     },
     "execution_count": 65,
     "metadata": {},
     "output_type": "execute_result"
    },
    {
     "data": {
      "image/png": "[encoded data removed]",
      "text/plain": [
       "<Figure size 720x432 with 1 Axes>"
      ]
     },
     "metadata": {
      "needs_background": "light"
     },
     "output_type": "display_data"
    }
   ],
   "source": [
    "plt.figure(figsize=(10,6))\n",
    "sns.barplot(final_data3['Gym Name'],final_data3['Customer_weight'])"
   ]
  },
  {
   "cell_type": "code",
   "execution_count": null,
   "id": "6f74343c",
   "metadata": {},
   "outputs": [],
   "source": []
  }
 ],
 "metadata": {
  "kernelspec": {
   "display_name": "Python 3 (ipykernel)",
   "language": "python",
   "name": "python3"
  },
  "language_info": {
   "codemirror_mode": {
    "name": "ipython",
    "version": 3
   },
   "file_extension": ".py",
   "mimetype": "text/x-python",
   "name": "python",
   "nbconvert_exporter": "python",
   "pygments_lexer": "ipython3",
   "version": "3.9.7"
  }
 },
 "nbformat": 4,
 "nbformat_minor": 5
}

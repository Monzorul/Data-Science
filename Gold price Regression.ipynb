{
 "cells": [
  {
   "cell_type": "code",
   "execution_count": 1,
   "id": "9c5d3d37",
   "metadata": {},
   "outputs": [],
   "source": [
    "import numpy as np\n",
    "import pandas as pd\n",
    "import matplotlib.pyplot as plt\n",
    "import seaborn as sns \n",
    "from math import sqrt\n",
    "%matplotlib inline\n",
    "import warnings\n",
    "warnings.filterwarnings('ignore')"
   ]
  },
  {
   "cell_type": "code",
   "execution_count": 2,
   "id": "cac9368c",
   "metadata": {},
   "outputs": [],
   "source": [
    "df = pd.read_csv('gld_price_data.csv')"
   ]
  },
  {
   "cell_type": "code",
   "execution_count": 3,
   "id": "c839fdc0",
   "metadata": {},
   "outputs": [
    {
     "data": {
      "text/html": [
       "<div>\n",
       "<style scoped>\n",
       "    .dataframe tbody tr th:only-of-type {\n",
       "        vertical-align: middle;\n",
       "    }\n",
       "\n",
       "    .dataframe tbody tr th {\n",
       "        vertical-align: top;\n",
       "    }\n",
       "\n",
       "    .dataframe thead th {\n",
       "        text-align: right;\n",
       "    }\n",
       "</style>\n",
       "<table border=\"1\" class=\"dataframe\">\n",
       "  <thead>\n",
       "    <tr style=\"text-align: right;\">\n",
       "      <th></th>\n",
       "      <th>Date</th>\n",
       "      <th>SPX</th>\n",
       "      <th>GLD</th>\n",
       "      <th>USO</th>\n",
       "      <th>SLV</th>\n",
       "      <th>EUR/USD</th>\n",
       "    </tr>\n",
       "  </thead>\n",
       "  <tbody>\n",
       "    <tr>\n",
       "      <th>0</th>\n",
       "      <td>1/2/2008</td>\n",
       "      <td>1447.160034</td>\n",
       "      <td>84.860001</td>\n",
       "      <td>78.470001</td>\n",
       "      <td>15.180</td>\n",
       "      <td>1.471692</td>\n",
       "    </tr>\n",
       "    <tr>\n",
       "      <th>1</th>\n",
       "      <td>1/3/2008</td>\n",
       "      <td>1447.160034</td>\n",
       "      <td>85.570000</td>\n",
       "      <td>78.370003</td>\n",
       "      <td>15.285</td>\n",
       "      <td>1.474491</td>\n",
       "    </tr>\n",
       "    <tr>\n",
       "      <th>2</th>\n",
       "      <td>1/4/2008</td>\n",
       "      <td>1411.630005</td>\n",
       "      <td>85.129997</td>\n",
       "      <td>77.309998</td>\n",
       "      <td>15.167</td>\n",
       "      <td>1.475492</td>\n",
       "    </tr>\n",
       "    <tr>\n",
       "      <th>3</th>\n",
       "      <td>1/7/2008</td>\n",
       "      <td>1416.180054</td>\n",
       "      <td>84.769997</td>\n",
       "      <td>75.500000</td>\n",
       "      <td>15.053</td>\n",
       "      <td>1.468299</td>\n",
       "    </tr>\n",
       "    <tr>\n",
       "      <th>4</th>\n",
       "      <td>1/8/2008</td>\n",
       "      <td>1390.189941</td>\n",
       "      <td>86.779999</td>\n",
       "      <td>76.059998</td>\n",
       "      <td>15.590</td>\n",
       "      <td>1.557099</td>\n",
       "    </tr>\n",
       "  </tbody>\n",
       "</table>\n",
       "</div>"
      ],
      "text/plain": [
       "       Date          SPX        GLD        USO     SLV   EUR/USD\n",
       "0  1/2/2008  1447.160034  84.860001  78.470001  15.180  1.471692\n",
       "1  1/3/2008  1447.160034  85.570000  78.370003  15.285  1.474491\n",
       "2  1/4/2008  1411.630005  85.129997  77.309998  15.167  1.475492\n",
       "3  1/7/2008  1416.180054  84.769997  75.500000  15.053  1.468299\n",
       "4  1/8/2008  1390.189941  86.779999  76.059998  15.590  1.557099"
      ]
     },
     "execution_count": 3,
     "metadata": {},
     "output_type": "execute_result"
    }
   ],
   "source": [
    "df.head()"
   ]
  },
  {
   "cell_type": "code",
   "execution_count": 4,
   "id": "0e071791",
   "metadata": {},
   "outputs": [
    {
     "data": {
      "text/html": [
       "<div>\n",
       "<style scoped>\n",
       "    .dataframe tbody tr th:only-of-type {\n",
       "        vertical-align: middle;\n",
       "    }\n",
       "\n",
       "    .dataframe tbody tr th {\n",
       "        vertical-align: top;\n",
       "    }\n",
       "\n",
       "    .dataframe thead th {\n",
       "        text-align: right;\n",
       "    }\n",
       "</style>\n",
       "<table border=\"1\" class=\"dataframe\">\n",
       "  <thead>\n",
       "    <tr style=\"text-align: right;\">\n",
       "      <th></th>\n",
       "      <th>Date</th>\n",
       "      <th>SPX</th>\n",
       "      <th>GLD</th>\n",
       "      <th>USO</th>\n",
       "      <th>SLV</th>\n",
       "      <th>EUR/USD</th>\n",
       "    </tr>\n",
       "  </thead>\n",
       "  <tbody>\n",
       "    <tr>\n",
       "      <th>2285</th>\n",
       "      <td>5/8/2018</td>\n",
       "      <td>2671.919922</td>\n",
       "      <td>124.589996</td>\n",
       "      <td>14.0600</td>\n",
       "      <td>15.5100</td>\n",
       "      <td>1.186789</td>\n",
       "    </tr>\n",
       "    <tr>\n",
       "      <th>2286</th>\n",
       "      <td>5/9/2018</td>\n",
       "      <td>2697.790039</td>\n",
       "      <td>124.330002</td>\n",
       "      <td>14.3700</td>\n",
       "      <td>15.5300</td>\n",
       "      <td>1.184722</td>\n",
       "    </tr>\n",
       "    <tr>\n",
       "      <th>2287</th>\n",
       "      <td>5/10/2018</td>\n",
       "      <td>2723.070068</td>\n",
       "      <td>125.180000</td>\n",
       "      <td>14.4100</td>\n",
       "      <td>15.7400</td>\n",
       "      <td>1.191753</td>\n",
       "    </tr>\n",
       "    <tr>\n",
       "      <th>2288</th>\n",
       "      <td>5/14/2018</td>\n",
       "      <td>2730.129883</td>\n",
       "      <td>124.489998</td>\n",
       "      <td>14.3800</td>\n",
       "      <td>15.5600</td>\n",
       "      <td>1.193118</td>\n",
       "    </tr>\n",
       "    <tr>\n",
       "      <th>2289</th>\n",
       "      <td>5/16/2018</td>\n",
       "      <td>2725.780029</td>\n",
       "      <td>122.543800</td>\n",
       "      <td>14.4058</td>\n",
       "      <td>15.4542</td>\n",
       "      <td>1.182033</td>\n",
       "    </tr>\n",
       "  </tbody>\n",
       "</table>\n",
       "</div>"
      ],
      "text/plain": [
       "           Date          SPX         GLD      USO      SLV   EUR/USD\n",
       "2285   5/8/2018  2671.919922  124.589996  14.0600  15.5100  1.186789\n",
       "2286   5/9/2018  2697.790039  124.330002  14.3700  15.5300  1.184722\n",
       "2287  5/10/2018  2723.070068  125.180000  14.4100  15.7400  1.191753\n",
       "2288  5/14/2018  2730.129883  124.489998  14.3800  15.5600  1.193118\n",
       "2289  5/16/2018  2725.780029  122.543800  14.4058  15.4542  1.182033"
      ]
     },
     "execution_count": 4,
     "metadata": {},
     "output_type": "execute_result"
    }
   ],
   "source": [
    "df.tail()"
   ]
  },
  {
   "cell_type": "code",
   "execution_count": 5,
   "id": "9cb3917c",
   "metadata": {},
   "outputs": [
    {
     "data": {
      "text/plain": [
       "(2290, 6)"
      ]
     },
     "execution_count": 5,
     "metadata": {},
     "output_type": "execute_result"
    }
   ],
   "source": [
    "df.shape"
   ]
  },
  {
   "cell_type": "code",
   "execution_count": 6,
   "id": "f1966aad",
   "metadata": {},
   "outputs": [
    {
     "name": "stdout",
     "output_type": "stream",
     "text": [
      "<class 'pandas.core.frame.DataFrame'>\n",
      "RangeIndex: 2290 entries, 0 to 2289\n",
      "Data columns (total 6 columns):\n",
      " #   Column   Non-Null Count  Dtype  \n",
      "---  ------   --------------  -----  \n",
      " 0   Date     2290 non-null   object \n",
      " 1   SPX      2290 non-null   float64\n",
      " 2   GLD      2290 non-null   float64\n",
      " 3   USO      2290 non-null   float64\n",
      " 4   SLV      2290 non-null   float64\n",
      " 5   EUR/USD  2290 non-null   float64\n",
      "dtypes: float64(5), object(1)\n",
      "memory usage: 107.5+ KB\n"
     ]
    }
   ],
   "source": [
    "df.info()"
   ]
  },
  {
   "cell_type": "code",
   "execution_count": 7,
   "id": "7e1dede9",
   "metadata": {},
   "outputs": [
    {
     "data": {
      "text/plain": [
       "Date       0\n",
       "SPX        0\n",
       "GLD        0\n",
       "USO        0\n",
       "SLV        0\n",
       "EUR/USD    0\n",
       "dtype: int64"
      ]
     },
     "execution_count": 7,
     "metadata": {},
     "output_type": "execute_result"
    }
   ],
   "source": [
    "df.isnull().sum()"
   ]
  },
  {
   "cell_type": "code",
   "execution_count": 8,
   "id": "df75fce2",
   "metadata": {},
   "outputs": [
    {
     "data": {
      "text/html": [
       "<div>\n",
       "<style scoped>\n",
       "    .dataframe tbody tr th:only-of-type {\n",
       "        vertical-align: middle;\n",
       "    }\n",
       "\n",
       "    .dataframe tbody tr th {\n",
       "        vertical-align: top;\n",
       "    }\n",
       "\n",
       "    .dataframe thead th {\n",
       "        text-align: right;\n",
       "    }\n",
       "</style>\n",
       "<table border=\"1\" class=\"dataframe\">\n",
       "  <thead>\n",
       "    <tr style=\"text-align: right;\">\n",
       "      <th></th>\n",
       "      <th>SPX</th>\n",
       "      <th>GLD</th>\n",
       "      <th>USO</th>\n",
       "      <th>SLV</th>\n",
       "      <th>EUR/USD</th>\n",
       "    </tr>\n",
       "  </thead>\n",
       "  <tbody>\n",
       "    <tr>\n",
       "      <th>count</th>\n",
       "      <td>2290.000000</td>\n",
       "      <td>2290.000000</td>\n",
       "      <td>2290.000000</td>\n",
       "      <td>2290.000000</td>\n",
       "      <td>2290.000000</td>\n",
       "    </tr>\n",
       "    <tr>\n",
       "      <th>mean</th>\n",
       "      <td>1654.315776</td>\n",
       "      <td>122.732875</td>\n",
       "      <td>31.842221</td>\n",
       "      <td>20.084997</td>\n",
       "      <td>1.283653</td>\n",
       "    </tr>\n",
       "    <tr>\n",
       "      <th>std</th>\n",
       "      <td>519.111540</td>\n",
       "      <td>23.283346</td>\n",
       "      <td>19.523517</td>\n",
       "      <td>7.092566</td>\n",
       "      <td>0.131547</td>\n",
       "    </tr>\n",
       "    <tr>\n",
       "      <th>min</th>\n",
       "      <td>676.530029</td>\n",
       "      <td>70.000000</td>\n",
       "      <td>7.960000</td>\n",
       "      <td>8.850000</td>\n",
       "      <td>1.039047</td>\n",
       "    </tr>\n",
       "    <tr>\n",
       "      <th>25%</th>\n",
       "      <td>1239.874969</td>\n",
       "      <td>109.725000</td>\n",
       "      <td>14.380000</td>\n",
       "      <td>15.570000</td>\n",
       "      <td>1.171313</td>\n",
       "    </tr>\n",
       "    <tr>\n",
       "      <th>50%</th>\n",
       "      <td>1551.434998</td>\n",
       "      <td>120.580002</td>\n",
       "      <td>33.869999</td>\n",
       "      <td>17.268500</td>\n",
       "      <td>1.303297</td>\n",
       "    </tr>\n",
       "    <tr>\n",
       "      <th>75%</th>\n",
       "      <td>2073.010070</td>\n",
       "      <td>132.840004</td>\n",
       "      <td>37.827501</td>\n",
       "      <td>22.882500</td>\n",
       "      <td>1.369971</td>\n",
       "    </tr>\n",
       "    <tr>\n",
       "      <th>max</th>\n",
       "      <td>2872.870117</td>\n",
       "      <td>184.589996</td>\n",
       "      <td>117.480003</td>\n",
       "      <td>47.259998</td>\n",
       "      <td>1.598798</td>\n",
       "    </tr>\n",
       "  </tbody>\n",
       "</table>\n",
       "</div>"
      ],
      "text/plain": [
       "               SPX          GLD          USO          SLV      EUR/USD\n",
       "count  2290.000000  2290.000000  2290.000000  2290.000000  2290.000000\n",
       "mean   1654.315776   122.732875    31.842221    20.084997     1.283653\n",
       "std     519.111540    23.283346    19.523517     7.092566     0.131547\n",
       "min     676.530029    70.000000     7.960000     8.850000     1.039047\n",
       "25%    1239.874969   109.725000    14.380000    15.570000     1.171313\n",
       "50%    1551.434998   120.580002    33.869999    17.268500     1.303297\n",
       "75%    2073.010070   132.840004    37.827501    22.882500     1.369971\n",
       "max    2872.870117   184.589996   117.480003    47.259998     1.598798"
      ]
     },
     "execution_count": 8,
     "metadata": {},
     "output_type": "execute_result"
    }
   ],
   "source": [
    "df.describe()"
   ]
  },
  {
   "cell_type": "code",
   "execution_count": 9,
   "id": "d2850b5f",
   "metadata": {},
   "outputs": [],
   "source": [
    "cor = df.corr()"
   ]
  },
  {
   "cell_type": "code",
   "execution_count": 10,
   "id": "d1100ae3",
   "metadata": {},
   "outputs": [
    {
     "data": {
      "text/html": [
       "<div>\n",
       "<style scoped>\n",
       "    .dataframe tbody tr th:only-of-type {\n",
       "        vertical-align: middle;\n",
       "    }\n",
       "\n",
       "    .dataframe tbody tr th {\n",
       "        vertical-align: top;\n",
       "    }\n",
       "\n",
       "    .dataframe thead th {\n",
       "        text-align: right;\n",
       "    }\n",
       "</style>\n",
       "<table border=\"1\" class=\"dataframe\">\n",
       "  <thead>\n",
       "    <tr style=\"text-align: right;\">\n",
       "      <th></th>\n",
       "      <th>SPX</th>\n",
       "      <th>GLD</th>\n",
       "      <th>USO</th>\n",
       "      <th>SLV</th>\n",
       "      <th>EUR/USD</th>\n",
       "    </tr>\n",
       "  </thead>\n",
       "  <tbody>\n",
       "    <tr>\n",
       "      <th>SPX</th>\n",
       "      <td>1.000000</td>\n",
       "      <td>0.049345</td>\n",
       "      <td>-0.591573</td>\n",
       "      <td>-0.274055</td>\n",
       "      <td>-0.672017</td>\n",
       "    </tr>\n",
       "    <tr>\n",
       "      <th>GLD</th>\n",
       "      <td>0.049345</td>\n",
       "      <td>1.000000</td>\n",
       "      <td>-0.186360</td>\n",
       "      <td>0.866632</td>\n",
       "      <td>-0.024375</td>\n",
       "    </tr>\n",
       "    <tr>\n",
       "      <th>USO</th>\n",
       "      <td>-0.591573</td>\n",
       "      <td>-0.186360</td>\n",
       "      <td>1.000000</td>\n",
       "      <td>0.167547</td>\n",
       "      <td>0.829317</td>\n",
       "    </tr>\n",
       "    <tr>\n",
       "      <th>SLV</th>\n",
       "      <td>-0.274055</td>\n",
       "      <td>0.866632</td>\n",
       "      <td>0.167547</td>\n",
       "      <td>1.000000</td>\n",
       "      <td>0.321631</td>\n",
       "    </tr>\n",
       "    <tr>\n",
       "      <th>EUR/USD</th>\n",
       "      <td>-0.672017</td>\n",
       "      <td>-0.024375</td>\n",
       "      <td>0.829317</td>\n",
       "      <td>0.321631</td>\n",
       "      <td>1.000000</td>\n",
       "    </tr>\n",
       "  </tbody>\n",
       "</table>\n",
       "</div>"
      ],
      "text/plain": [
       "              SPX       GLD       USO       SLV   EUR/USD\n",
       "SPX      1.000000  0.049345 -0.591573 -0.274055 -0.672017\n",
       "GLD      0.049345  1.000000 -0.186360  0.866632 -0.024375\n",
       "USO     -0.591573 -0.186360  1.000000  0.167547  0.829317\n",
       "SLV     -0.274055  0.866632  0.167547  1.000000  0.321631\n",
       "EUR/USD -0.672017 -0.024375  0.829317  0.321631  1.000000"
      ]
     },
     "execution_count": 10,
     "metadata": {},
     "output_type": "execute_result"
    }
   ],
   "source": [
    "cor"
   ]
  },
  {
   "cell_type": "code",
   "execution_count": 11,
   "id": "ab5b92ae",
   "metadata": {},
   "outputs": [
    {
     "data": {
      "text/plain": [
       "<AxesSubplot:>"
      ]
     },
     "execution_count": 11,
     "metadata": {},
     "output_type": "execute_result"
    },
    {
     "data": {
      "image/png": "[encoded data removed]",
      "text/plain": [
       "<Figure size 576x576 with 2 Axes>"
      ]
     },
     "metadata": {
      "needs_background": "light"
     },
     "output_type": "display_data"
    }
   ],
   "source": [
    "plt.figure(figsize=(8,8))\n",
    "sns.heatmap(cor,cbar=True,square=True)"
   ]
  },
  {
   "cell_type": "code",
   "execution_count": 12,
   "id": "7132b79a",
   "metadata": {},
   "outputs": [
    {
     "data": {
      "text/plain": [
       "<AxesSubplot:xlabel='GLD', ylabel='Density'>"
      ]
     },
     "execution_count": 12,
     "metadata": {},
     "output_type": "execute_result"
    },
    {
     "data": {
      "image/png": "[encoded data removed]",
      "text/plain": [
       "<Figure size 432x288 with 1 Axes>"
      ]
     },
     "metadata": {
      "needs_background": "light"
     },
     "output_type": "display_data"
    }
   ],
   "source": [
    "sns.distplot(df['GLD'])"
   ]
  },
  {
   "cell_type": "code",
   "execution_count": 13,
   "id": "02cdcf9d",
   "metadata": {},
   "outputs": [],
   "source": [
    "x = df.drop(['Date','GLD'],axis=1)"
   ]
  },
  {
   "cell_type": "code",
   "execution_count": 14,
   "id": "4aa6f158",
   "metadata": {},
   "outputs": [
    {
     "data": {
      "text/html": [
       "<div>\n",
       "<style scoped>\n",
       "    .dataframe tbody tr th:only-of-type {\n",
       "        vertical-align: middle;\n",
       "    }\n",
       "\n",
       "    .dataframe tbody tr th {\n",
       "        vertical-align: top;\n",
       "    }\n",
       "\n",
       "    .dataframe thead th {\n",
       "        text-align: right;\n",
       "    }\n",
       "</style>\n",
       "<table border=\"1\" class=\"dataframe\">\n",
       "  <thead>\n",
       "    <tr style=\"text-align: right;\">\n",
       "      <th></th>\n",
       "      <th>SPX</th>\n",
       "      <th>USO</th>\n",
       "      <th>SLV</th>\n",
       "      <th>EUR/USD</th>\n",
       "    </tr>\n",
       "  </thead>\n",
       "  <tbody>\n",
       "    <tr>\n",
       "      <th>0</th>\n",
       "      <td>1447.160034</td>\n",
       "      <td>78.470001</td>\n",
       "      <td>15.1800</td>\n",
       "      <td>1.471692</td>\n",
       "    </tr>\n",
       "    <tr>\n",
       "      <th>1</th>\n",
       "      <td>1447.160034</td>\n",
       "      <td>78.370003</td>\n",
       "      <td>15.2850</td>\n",
       "      <td>1.474491</td>\n",
       "    </tr>\n",
       "    <tr>\n",
       "      <th>2</th>\n",
       "      <td>1411.630005</td>\n",
       "      <td>77.309998</td>\n",
       "      <td>15.1670</td>\n",
       "      <td>1.475492</td>\n",
       "    </tr>\n",
       "    <tr>\n",
       "      <th>3</th>\n",
       "      <td>1416.180054</td>\n",
       "      <td>75.500000</td>\n",
       "      <td>15.0530</td>\n",
       "      <td>1.468299</td>\n",
       "    </tr>\n",
       "    <tr>\n",
       "      <th>4</th>\n",
       "      <td>1390.189941</td>\n",
       "      <td>76.059998</td>\n",
       "      <td>15.5900</td>\n",
       "      <td>1.557099</td>\n",
       "    </tr>\n",
       "    <tr>\n",
       "      <th>...</th>\n",
       "      <td>...</td>\n",
       "      <td>...</td>\n",
       "      <td>...</td>\n",
       "      <td>...</td>\n",
       "    </tr>\n",
       "    <tr>\n",
       "      <th>2285</th>\n",
       "      <td>2671.919922</td>\n",
       "      <td>14.060000</td>\n",
       "      <td>15.5100</td>\n",
       "      <td>1.186789</td>\n",
       "    </tr>\n",
       "    <tr>\n",
       "      <th>2286</th>\n",
       "      <td>2697.790039</td>\n",
       "      <td>14.370000</td>\n",
       "      <td>15.5300</td>\n",
       "      <td>1.184722</td>\n",
       "    </tr>\n",
       "    <tr>\n",
       "      <th>2287</th>\n",
       "      <td>2723.070068</td>\n",
       "      <td>14.410000</td>\n",
       "      <td>15.7400</td>\n",
       "      <td>1.191753</td>\n",
       "    </tr>\n",
       "    <tr>\n",
       "      <th>2288</th>\n",
       "      <td>2730.129883</td>\n",
       "      <td>14.380000</td>\n",
       "      <td>15.5600</td>\n",
       "      <td>1.193118</td>\n",
       "    </tr>\n",
       "    <tr>\n",
       "      <th>2289</th>\n",
       "      <td>2725.780029</td>\n",
       "      <td>14.405800</td>\n",
       "      <td>15.4542</td>\n",
       "      <td>1.182033</td>\n",
       "    </tr>\n",
       "  </tbody>\n",
       "</table>\n",
       "<p>2290 rows × 4 columns</p>\n",
       "</div>"
      ],
      "text/plain": [
       "              SPX        USO      SLV   EUR/USD\n",
       "0     1447.160034  78.470001  15.1800  1.471692\n",
       "1     1447.160034  78.370003  15.2850  1.474491\n",
       "2     1411.630005  77.309998  15.1670  1.475492\n",
       "3     1416.180054  75.500000  15.0530  1.468299\n",
       "4     1390.189941  76.059998  15.5900  1.557099\n",
       "...           ...        ...      ...       ...\n",
       "2285  2671.919922  14.060000  15.5100  1.186789\n",
       "2286  2697.790039  14.370000  15.5300  1.184722\n",
       "2287  2723.070068  14.410000  15.7400  1.191753\n",
       "2288  2730.129883  14.380000  15.5600  1.193118\n",
       "2289  2725.780029  14.405800  15.4542  1.182033\n",
       "\n",
       "[2290 rows x 4 columns]"
      ]
     },
     "execution_count": 14,
     "metadata": {},
     "output_type": "execute_result"
    }
   ],
   "source": [
    "x"
   ]
  },
  {
   "cell_type": "code",
   "execution_count": 15,
   "id": "cb123015",
   "metadata": {},
   "outputs": [],
   "source": [
    "y = df['GLD']"
   ]
  },
  {
   "cell_type": "code",
   "execution_count": 16,
   "id": "18c0e4a5",
   "metadata": {},
   "outputs": [
    {
     "data": {
      "text/plain": [
       "0        84.860001\n",
       "1        85.570000\n",
       "2        85.129997\n",
       "3        84.769997\n",
       "4        86.779999\n",
       "           ...    \n",
       "2285    124.589996\n",
       "2286    124.330002\n",
       "2287    125.180000\n",
       "2288    124.489998\n",
       "2289    122.543800\n",
       "Name: GLD, Length: 2290, dtype: float64"
      ]
     },
     "execution_count": 16,
     "metadata": {},
     "output_type": "execute_result"
    }
   ],
   "source": [
    "y"
   ]
  },
  {
   "cell_type": "code",
   "execution_count": 17,
   "id": "f263f4d8",
   "metadata": {},
   "outputs": [],
   "source": [
    "from sklearn.model_selection import train_test_split"
   ]
  },
  {
   "cell_type": "code",
   "execution_count": 18,
   "id": "6da44164",
   "metadata": {},
   "outputs": [],
   "source": [
    "x_train,x_test,y_train,y_test = train_test_split(x,y, test_size = .30, random_state=2)"
   ]
  },
  {
   "cell_type": "code",
   "execution_count": 19,
   "id": "3e1de2fc",
   "metadata": {},
   "outputs": [],
   "source": [
    "from sklearn.ensemble import RandomForestRegressor"
   ]
  },
  {
   "cell_type": "code",
   "execution_count": 20,
   "id": "38aee3b7",
   "metadata": {},
   "outputs": [],
   "source": [
    "rf = RandomForestRegressor(n_estimators=100)"
   ]
  },
  {
   "cell_type": "code",
   "execution_count": 21,
   "id": "e45f9005",
   "metadata": {},
   "outputs": [
    {
     "data": {
      "text/plain": [
       "RandomForestRegressor()"
      ]
     },
     "execution_count": 21,
     "metadata": {},
     "output_type": "execute_result"
    }
   ],
   "source": [
    "rf.fit(x_train,y_train)"
   ]
  },
  {
   "cell_type": "code",
   "execution_count": 22,
   "id": "5dcbdf88",
   "metadata": {},
   "outputs": [],
   "source": [
    "rf_pred = rf.predict(x_test)"
   ]
  },
  {
   "cell_type": "code",
   "execution_count": 23,
   "id": "1b72b84c",
   "metadata": {},
   "outputs": [
    {
     "data": {
      "text/plain": [
       "array([168.74689972,  82.0320001 , 115.72430003, 127.62960106,\n",
       "       120.45710152, 154.7046986 , 150.36470065, 126.08740006,\n",
       "       118.11879898, 126.12010086, 116.30590116, 172.41470094,\n",
       "       142.78019919, 167.71539868, 115.27750014, 117.77480037,\n",
       "       140.04580291, 170.14880057, 160.38060366, 160.40899936,\n",
       "       154.95699944, 125.52969969, 174.95099971, 156.71920259,\n",
       "       125.08510069,  93.7002992 ,  77.29790018, 120.64300012,\n",
       "       119.37180087, 167.28230049,  88.54529923, 125.37530173,\n",
       "        91.05270097, 117.85759958, 121.134399  , 136.21880115,\n",
       "       115.41820116, 116.98480022, 147.76799914, 107.053101  ,\n",
       "       104.28530188,  87.16739764, 126.46470034, 117.59869929,\n",
       "       155.02279926, 119.97429998, 108.22850132, 108.0734978 ,\n",
       "        93.17889946, 127.26649748,  75.31690016, 113.64149958,\n",
       "       120.93220005, 111.13139833, 118.89869882, 120.3492999 ,\n",
       "       158.6427009 , 166.49470184, 147.00449706,  86.54029994,\n",
       "        94.41610014,  86.99859859,  90.67010026, 118.8363012 ,\n",
       "       126.46330053, 127.85239954, 169.97940023, 122.28639943,\n",
       "       117.55939883,  98.97699937, 168.47830042, 142.84359764,\n",
       "       131.23950225, 121.19050191, 122.26259956, 119.7379007 ,\n",
       "       114.4040015 , 118.29060057, 107.19530077, 127.88900128,\n",
       "       113.64359998, 106.95229987, 116.95000065, 119.59249891,\n",
       "        89.34040034,  88.14019871, 146.1109017 , 127.32259955,\n",
       "       112.97000047, 110.35169829, 108.16529902,  77.72359887,\n",
       "       170.08870251, 114.42239935, 121.86469917, 127.70440156,\n",
       "       155.00819928,  91.08829901, 135.06950131, 159.01180358,\n",
       "       124.17710057, 125.25820051, 131.02540183, 114.71530105,\n",
       "       119.76629989,  92.10189989, 110.41339888, 167.32079981,\n",
       "       156.0550008 , 114.69420016, 106.58380152,  79.5157996 ,\n",
       "       113.47820017, 125.8748003 , 107.14299943, 119.43910069,\n",
       "       156.09470346, 158.69749945, 119.81579987, 134.82120295,\n",
       "       101.19079981, 117.3997979 , 119.46200001, 113.00780101,\n",
       "       102.82219884, 159.99939733,  98.83400004, 148.03059973,\n",
       "       125.42130086, 168.35709909, 125.85489925, 127.35509813,\n",
       "       127.50270187, 113.91269912, 113.83360093, 123.73739925,\n",
       "       102.64349923,  89.42119967, 124.35119923, 101.23189951,\n",
       "       106.91479938, 113.76610075, 117.57840061,  98.98409958,\n",
       "       121.91949983, 162.90519845,  87.27489856, 106.88700001,\n",
       "       117.12890141, 127.74590141, 124.09050106,  80.95429914,\n",
       "       120.18990061, 153.42039953,  88.22039946, 110.19299991,\n",
       "       118.97199914, 173.2721989 , 103.01549904, 105.85649994,\n",
       "       122.26430049, 154.62279864,  87.7625984 ,  93.5620003 ,\n",
       "       112.7858005 , 176.69779991, 114.38369984, 119.45169986,\n",
       "        95.93250112, 125.37489956, 166.1905003 , 114.92930086,\n",
       "       116.99430164,  88.12789859, 149.17040055, 120.36769917,\n",
       "        89.42119963, 112.38560047, 116.61160017, 118.87740106,\n",
       "        88.09349925,  94.59759989, 117.04659939, 118.97190047,\n",
       "       120.29460091, 126.62739828, 121.90299964, 151.00809995,\n",
       "       164.89270092, 118.67139949, 120.05730089, 148.68309919,\n",
       "       117.57479894, 173.32869927, 105.0606996 , 105.38169957,\n",
       "       149.9045006 , 113.23980118, 124.59600183, 147.89850198,\n",
       "       119.79030102, 115.55340051, 112.33380044, 113.4653023 ,\n",
       "       141.02980128, 117.86029762, 102.98180058, 115.92010086,\n",
       "       103.49500114,  98.52819996, 117.41940068,  90.83259988,\n",
       "        91.60920059, 153.07779956, 102.66239957, 154.85730097,\n",
       "       114.53850168, 138.65940136,  89.91849799, 115.5848994 ,\n",
       "       112.61770084, 122.31340133, 121.72450013, 165.32330089,\n",
       "        92.93119894, 135.43110175, 121.4181989 , 120.38470095,\n",
       "       104.7141    , 141.61270344, 122.57149959, 116.63230035,\n",
       "       113.60180138, 126.92569799, 122.26049956, 125.91659927,\n",
       "       121.27190019,  86.79399879, 132.33580163, 144.00310246,\n",
       "        92.93739957, 157.68279977, 157.52820428, 126.36730039,\n",
       "       164.40449936, 109.06179968, 109.6498005 , 103.82009829,\n",
       "        93.92480187, 127.54800246, 107.25700044, 159.77379999,\n",
       "       121.9326997 , 131.85550044, 131.04010086, 160.54620026,\n",
       "        89.82629786, 174.06600165, 128.02310025, 126.49909887,\n",
       "        87.06939967, 124.51139902, 150.71179769,  89.7669001 ,\n",
       "       107.06009994, 108.84349969,  84.7103992 , 135.78109992,\n",
       "       154.56190034, 140.14770424,  75.17009979, 151.22729893,\n",
       "       126.32130069, 126.76310011, 127.4988985 , 108.54189949,\n",
       "       155.87360154, 114.57530108, 116.9472013 , 125.20179952,\n",
       "       153.9704016 , 120.9523001 , 156.15219977,  92.75169954,\n",
       "       125.69470078, 125.04109961,  87.81869953,  91.84309898,\n",
       "       126.52259929, 127.40440281, 113.2075015 , 117.21339733,\n",
       "       120.77530011, 127.32209825, 119.71510126, 136.14310032,\n",
       "        93.68349853, 120.28180046, 113.33030122,  94.36389944,\n",
       "       108.81539992,  86.62769925, 109.41779903,  89.67539957,\n",
       "        91.64940053, 131.95180197, 162.48880108,  89.78889898,\n",
       "       119.31570067, 133.42570135, 123.80560005, 127.38679968,\n",
       "       102.5903992 ,  89.20669819, 131.88940085, 120.57430074,\n",
       "       108.4145997 , 166.27340079, 115.40630062,  86.45689892,\n",
       "       118.90550072,  90.89219982, 161.73130105, 116.45290014,\n",
       "       121.58079994, 160.09329698, 119.12450012, 113.19649945,\n",
       "       108.39859881, 126.83070014,  76.03150055, 103.01939992,\n",
       "       127.38940212, 121.81229975,  92.70899931, 131.79070068,\n",
       "       118.0066013 , 116.0693997 , 155.01260236, 159.26840103,\n",
       "       110.31879939, 155.16239751, 119.21210101, 160.46650185,\n",
       "       118.5363008 , 158.96040063, 115.05249945, 116.56860025,\n",
       "       150.03669957, 114.64890063, 125.61429922, 165.10399821,\n",
       "       117.5989    , 125.02029943, 153.54470343, 153.49130276,\n",
       "       132.2335007 , 114.60900017, 121.21980169, 124.29250048,\n",
       "        90.19049942, 123.04179999, 155.097602  , 112.08570061,\n",
       "       106.84140003, 162.3171018 , 118.87169962, 165.61250008,\n",
       "       134.26310163, 115.04789997, 153.13379945, 169.53780329,\n",
       "       115.65990001, 114.10640133, 158.05999882,  85.34349824,\n",
       "       127.13350036, 128.08000089, 128.92299944, 124.40640064,\n",
       "       123.27899974,  90.61860113, 153.09950082,  96.95569983,\n",
       "       136.87259965,  89.15369922, 106.97519994, 115.15160081,\n",
       "       113.0289016 , 124.33409926,  91.4217988 , 125.02880065,\n",
       "       162.34059952, 119.8454993 , 164.79830091, 126.63639821,\n",
       "       112.34600032, 127.37299894,  94.33170184,  90.85439997,\n",
       "       102.94719928, 120.78109995,  82.94569923, 126.13530012,\n",
       "       160.97360484, 117.49070098, 118.00389905, 120.10310023,\n",
       "       122.38339972, 120.05310102, 121.4021003 , 118.06649954,\n",
       "       107.0152997 , 148.23149959, 126.22319873, 115.87580098,\n",
       "        74.10890009, 127.63670002, 154.85540123, 121.15560019,\n",
       "       125.45099994,  88.82199959, 102.64939817, 124.92610017,\n",
       "       120.35000023,  73.23350077, 150.98130041, 120.68540058,\n",
       "       105.34359994,  86.66919769, 115.31349917, 172.19429646,\n",
       "       119.73340034, 160.87209927, 113.21869898, 120.78550054,\n",
       "       118.66730188,  96.09079985, 118.77550109, 125.90300024,\n",
       "       118.61279938,  95.82160107, 154.34680166, 121.94210017,\n",
       "       147.44090008, 159.29980322, 113.6792003 , 122.01479985,\n",
       "       151.39089984, 126.71650002, 165.89320021, 135.26940069,\n",
       "       119.9852996 , 167.737799  , 108.3301    , 121.11840027,\n",
       "       139.10590093, 106.85279931, 110.07869949, 113.32600045,\n",
       "        90.40419873, 125.67690012, 119.80010126,  93.96780207,\n",
       "       151.6819001 , 116.33160045,  80.92559991, 121.74349975,\n",
       "       103.36650159, 127.99689956, 123.55399916, 118.73820042,\n",
       "       120.39450035, 120.52560014, 131.65940118, 116.8387981 ,\n",
       "       117.52719838, 115.65859982, 104.72640026, 153.18670138,\n",
       "       110.10399717, 125.83870002,  83.13029963, 178.98099836,\n",
       "        92.97350098, 167.28160068, 105.61530056, 171.73699847,\n",
       "       155.62880055, 132.45160184, 120.62189905, 123.64169907,\n",
       "       144.44690066, 124.96489913, 112.82620103, 125.86400102,\n",
       "       121.95919984, 139.43000092,  76.1574007 ,  92.81470054,\n",
       "       113.99299892, 121.15569898, 127.17189875, 122.15450052,\n",
       "       126.09020086, 122.59249998, 119.33480037, 104.06439935,\n",
       "       118.22099954,  85.04169959,  92.66150105, 121.41679994,\n",
       "       118.40619976,  92.34280123, 125.44450065,  97.17869879,\n",
       "       104.34320003,  89.5145993 , 148.9552004 , 108.91860003,\n",
       "       119.9793011 ,  91.54600123, 118.79039986, 128.48779772,\n",
       "       111.89869946, 155.8432012 , 150.98030206, 108.83930134,\n",
       "        96.46309932, 118.85640034, 125.20990166,  80.54759891,\n",
       "       116.29140069,  92.84329889, 141.34090163, 108.03320005,\n",
       "       106.76750074,  88.27319943, 117.65499951, 110.67899856,\n",
       "       122.09730062, 136.20030108, 115.89970072, 119.45420069,\n",
       "       156.69629977, 106.81560141,  96.70970114, 135.43260045,\n",
       "       129.11600214, 122.90170034, 119.9881014 , 116.00020021,\n",
       "       103.48910136, 118.76369928, 120.48050126, 121.6268006 ,\n",
       "       156.13050054,  87.21719776, 162.98540078, 121.74959983,\n",
       "       118.97770048, 156.44880317, 158.82430087, 142.64519928,\n",
       "       114.90639988, 108.92800073, 126.54259863, 149.79640123,\n",
       "        94.15490136, 115.41330069, 122.39049937, 121.50439887,\n",
       "        87.26319847, 130.47210104, 131.00920251, 122.75609964,\n",
       "       113.13420142, 108.9167993 , 154.23460249, 111.77100026,\n",
       "       113.0242003 , 119.26329935, 113.89970139, 117.69679978,\n",
       "       124.36050011, 125.93969966, 135.0008979 , 118.14870064,\n",
       "        91.53369856, 118.9525004 , 118.9673016 ,  87.69139811,\n",
       "       119.23329938, 116.78930148, 117.43459876, 117.39389932,\n",
       "       160.26360071, 116.90920017,  86.47250161, 108.00179913,\n",
       "       123.70989989, 154.07839996, 117.64680053, 121.01269999,\n",
       "        86.56640116, 127.57190043, 144.86640109, 127.05919955,\n",
       "       162.06299954, 117.91950031, 117.25659878, 118.12509975,\n",
       "       164.61820109, 125.66190033,  98.90989987,  89.61949941,\n",
       "       107.34750071, 123.87810014, 118.92239976, 119.90130037,\n",
       "        90.35069928,  92.66059913,  89.01879937, 108.98800002,\n",
       "        95.5836009 , 147.65100089, 179.21009893, 154.64830081,\n",
       "       154.67070239, 121.76129978, 140.44400138,  86.96519919,\n",
       "       124.14060044, 119.1971011 ,  97.12910082, 125.02050112,\n",
       "        91.75170092,  92.99729944, 102.65099901, 117.38160075,\n",
       "        87.98939922, 153.92219952, 111.42560052, 109.39319865,\n",
       "       125.83090037, 169.01320244,  72.84390013, 144.99910028,\n",
       "       124.77030102, 112.70200103, 129.0939989 ,  91.20309914,\n",
       "       126.3075997 , 158.61250007, 121.2776009 , 120.90319872,\n",
       "       124.70360014, 147.61930085, 120.25839832, 123.99679919,\n",
       "       127.89500106, 122.84689993, 144.73909886, 152.41839907,\n",
       "       120.37130054, 149.14960006, 117.01369895,  85.88279866,\n",
       "       120.92419947, 124.7303004 , 125.53579986, 165.49069718,\n",
       "       122.98159984, 149.97589947, 125.46509957,  82.17239846,\n",
       "       153.67739873, 127.44519978,  88.27869823, 105.2136999 ,\n",
       "       122.0756998 , 136.00289728, 168.64369592, 121.76280018,\n",
       "       114.89500051,  86.51539998, 111.58910012])"
      ]
     },
     "execution_count": 23,
     "metadata": {},
     "output_type": "execute_result"
    }
   ],
   "source": [
    "rf_pred "
   ]
  },
  {
   "cell_type": "code",
   "execution_count": 24,
   "id": "026324e7",
   "metadata": {},
   "outputs": [],
   "source": [
    "from sklearn.metrics import mean_squared_error, mean_absolute_error, r2_score"
   ]
  },
  {
   "cell_type": "code",
   "execution_count": 25,
   "id": "155297b2",
   "metadata": {},
   "outputs": [
    {
     "name": "stdout",
     "output_type": "stream",
     "text": [
      "MSE = 5.370794840065951\n"
     ]
    }
   ],
   "source": [
    "print('MSE =',mean_squared_error(y_test,rf_pred))"
   ]
  },
  {
   "cell_type": "code",
   "execution_count": 26,
   "id": "c30a5985",
   "metadata": {},
   "outputs": [
    {
     "name": "stdout",
     "output_type": "stream",
     "text": [
      "MAE = 1.3497607487336218\n"
     ]
    }
   ],
   "source": [
    "print('MAE =',mean_absolute_error(y_test,rf_pred))"
   ]
  },
  {
   "cell_type": "code",
   "execution_count": 27,
   "id": "607179dc",
   "metadata": {},
   "outputs": [
    {
     "name": "stdout",
     "output_type": "stream",
     "text": [
      "RMSE = 2.3174975383084986\n"
     ]
    }
   ],
   "source": [
    "print('RMSE =',np.sqrt(mean_squared_error(y_test,rf_pred)))"
   ]
  },
  {
   "cell_type": "code",
   "execution_count": 28,
   "id": "38d94d30",
   "metadata": {},
   "outputs": [
    {
     "name": "stdout",
     "output_type": "stream",
     "text": [
      "R^2 =  0.9894738235146576\n"
     ]
    }
   ],
   "source": [
    "print('R^2 = ',r2_score(y_test,rf_pred))"
   ]
  },
  {
   "cell_type": "markdown",
   "id": "69dfc0c3",
   "metadata": {},
   "source": [
    "# Decision Tree"
   ]
  },
  {
   "cell_type": "code",
   "execution_count": 29,
   "id": "c8e5d4d8",
   "metadata": {},
   "outputs": [],
   "source": [
    "from sklearn.tree import DecisionTreeRegressor"
   ]
  },
  {
   "cell_type": "code",
   "execution_count": 30,
   "id": "875f535f",
   "metadata": {},
   "outputs": [],
   "source": [
    "dt = DecisionTreeRegressor()"
   ]
  },
  {
   "cell_type": "code",
   "execution_count": 31,
   "id": "24b483fa",
   "metadata": {},
   "outputs": [
    {
     "data": {
      "text/plain": [
       "DecisionTreeRegressor()"
      ]
     },
     "execution_count": 31,
     "metadata": {},
     "output_type": "execute_result"
    }
   ],
   "source": [
    "dt.fit(x_train,y_train)"
   ]
  },
  {
   "cell_type": "code",
   "execution_count": 32,
   "id": "36f499f0",
   "metadata": {},
   "outputs": [],
   "source": [
    "dt_pred = dt.predict(x_test)"
   ]
  },
  {
   "cell_type": "code",
   "execution_count": 33,
   "id": "deeb3757",
   "metadata": {},
   "outputs": [
    {
     "name": "stdout",
     "output_type": "stream",
     "text": [
      "MSE = 12.512286929894392\n"
     ]
    }
   ],
   "source": [
    "print('MSE =',mean_squared_error(y_test,dt_pred))"
   ]
  },
  {
   "cell_type": "code",
   "execution_count": 34,
   "id": "628adb4e",
   "metadata": {},
   "outputs": [
    {
     "name": "stdout",
     "output_type": "stream",
     "text": [
      "MAE = 1.7241716535662301\n"
     ]
    }
   ],
   "source": [
    "print('MAE =',mean_absolute_error(y_test,dt_pred))"
   ]
  },
  {
   "cell_type": "code",
   "execution_count": 35,
   "id": "4f00d466",
   "metadata": {},
   "outputs": [
    {
     "name": "stdout",
     "output_type": "stream",
     "text": [
      "RMSE = 3.5372711134283152\n"
     ]
    }
   ],
   "source": [
    "print('RMSE =',np.sqrt(mean_squared_error(y_test,dt_pred)))"
   ]
  },
  {
   "cell_type": "code",
   "execution_count": 36,
   "id": "08a04c14",
   "metadata": {},
   "outputs": [
    {
     "name": "stdout",
     "output_type": "stream",
     "text": [
      "R^2 =  0.975477272101927\n"
     ]
    }
   ],
   "source": [
    "print('R^2 = ',r2_score(y_test,dt_pred))"
   ]
  },
  {
   "cell_type": "code",
   "execution_count": null,
   "id": "8865ec6c",
   "metadata": {},
   "outputs": [],
   "source": []
  }
 ],
 "metadata": {
  "kernelspec": {
   "display_name": "Python 3 (ipykernel)",
   "language": "python",
   "name": "python3"
  },
  "language_info": {
   "codemirror_mode": {
    "name": "ipython",
    "version": 3
   },
   "file_extension": ".py",
   "mimetype": "text/x-python",
   "name": "python",
   "nbconvert_exporter": "python",
   "pygments_lexer": "ipython3",
   "version": "3.9.7"
  }
 },
 "nbformat": 4,
 "nbformat_minor": 5
}

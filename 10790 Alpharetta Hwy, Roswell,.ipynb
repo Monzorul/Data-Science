{
 "cells": [
  {
   "cell_type": "code",
   "execution_count": 1,
   "id": "93605ca8",
   "metadata": {},
   "outputs": [],
   "source": [
    "import numpy as np\n",
    "import pandas as pd\n",
    "import matplotlib.pyplot as plt\n",
    "import seaborn as sns\n",
    "import datetime as dt\n",
    "%matplotlib inline\n",
    "import warnings\n",
    "warnings.filterwarnings('ignore')"
   ]
  },
  {
   "cell_type": "code",
   "execution_count": 2,
   "id": "57aab101",
   "metadata": {},
   "outputs": [],
   "source": [
    "df = pd.read_csv('pp.csv')"
   ]
  },
  {
   "cell_type": "code",
   "execution_count": 44,
   "id": "9203514d",
   "metadata": {},
   "outputs": [
    {
     "data": {
      "text/html": [
       "<div>\n",
       "<style scoped>\n",
       "    .dataframe tbody tr th:only-of-type {\n",
       "        vertical-align: middle;\n",
       "    }\n",
       "\n",
       "    .dataframe tbody tr th {\n",
       "        vertical-align: top;\n",
       "    }\n",
       "\n",
       "    .dataframe thead th {\n",
       "        text-align: right;\n",
       "    }\n",
       "</style>\n",
       "<table border=\"1\" class=\"dataframe\">\n",
       "  <thead>\n",
       "    <tr style=\"text-align: right;\">\n",
       "      <th></th>\n",
       "      <th>device_id</th>\n",
       "      <th>visit_id</th>\n",
       "      <th>venue_id</th>\n",
       "      <th>visit_start_time</th>\n",
       "      <th>visit_end_time</th>\n",
       "      <th>visit_lat</th>\n",
       "      <th>visit_long</th>\n",
       "      <th>visit_weight</th>\n",
       "      <th>customer_weight</th>\n",
       "      <th>user_home_lat</th>\n",
       "      <th>user_home_long</th>\n",
       "      <th>user_work_lat</th>\n",
       "      <th>user_work_long</th>\n",
       "    </tr>\n",
       "  </thead>\n",
       "  <tbody>\n",
       "    <tr>\n",
       "      <th>0</th>\n",
       "      <td>594a32cf6cffe54257e0cd00</td>\n",
       "      <td>5a73432c3ac6de07416dc662</td>\n",
       "      <td>1e5fcd8d57a10111defbe772</td>\n",
       "      <td>2018-02-01 04:21:00</td>\n",
       "      <td>2018-02-01 06:40:00</td>\n",
       "      <td>34.042449</td>\n",
       "      <td>-84.341747</td>\n",
       "      <td>35.509552</td>\n",
       "      <td>0.0</td>\n",
       "      <td>34.054306</td>\n",
       "      <td>-84.299271</td>\n",
       "      <td>33.918793</td>\n",
       "      <td>-84.210145</td>\n",
       "    </tr>\n",
       "    <tr>\n",
       "      <th>1</th>\n",
       "      <td>594a32cf6cffe54257e0cd00</td>\n",
       "      <td>5a74938d877eb20736fd2b4d</td>\n",
       "      <td>1e5fcd8d57a10111defbe772</td>\n",
       "      <td>2018-02-02 04:21:00</td>\n",
       "      <td>2018-02-02 06:34:00</td>\n",
       "      <td>34.042457</td>\n",
       "      <td>-84.341828</td>\n",
       "      <td>34.655801</td>\n",
       "      <td>0.0</td>\n",
       "      <td>34.054536</td>\n",
       "      <td>-84.299138</td>\n",
       "      <td>33.917433</td>\n",
       "      <td>-84.209132</td>\n",
       "    </tr>\n",
       "    <tr>\n",
       "      <th>2</th>\n",
       "      <td>594a32cf6cffe54257e0cd00</td>\n",
       "      <td>5a788f7ac6d0690710963748</td>\n",
       "      <td>1e5fcd8d57a10111defbe772</td>\n",
       "      <td>2018-02-05 04:26:00</td>\n",
       "      <td>2018-02-05 06:20:00</td>\n",
       "      <td>34.042660</td>\n",
       "      <td>-84.341847</td>\n",
       "      <td>34.229250</td>\n",
       "      <td>0.0</td>\n",
       "      <td>34.054606</td>\n",
       "      <td>-84.301157</td>\n",
       "      <td>33.918846</td>\n",
       "      <td>-84.210032</td>\n",
       "    </tr>\n",
       "    <tr>\n",
       "      <th>3</th>\n",
       "      <td>594a32cf6cffe54257e0cd00</td>\n",
       "      <td>5a79d9bd8233db078de2abd8</td>\n",
       "      <td>1e5fcd8d57a10111defbe772</td>\n",
       "      <td>2018-02-06 04:24:00</td>\n",
       "      <td>2018-02-06 06:43:00</td>\n",
       "      <td>34.042539</td>\n",
       "      <td>-84.341908</td>\n",
       "      <td>34.520717</td>\n",
       "      <td>0.0</td>\n",
       "      <td>34.052541</td>\n",
       "      <td>-84.300257</td>\n",
       "      <td>33.917876</td>\n",
       "      <td>-84.211142</td>\n",
       "    </tr>\n",
       "    <tr>\n",
       "      <th>4</th>\n",
       "      <td>594a32cf6cffe54257e0cd00</td>\n",
       "      <td>5a7b2bcac80d6007efda45cc</td>\n",
       "      <td>1e5fcd8d57a10111defbe772</td>\n",
       "      <td>2018-02-07 04:19:00</td>\n",
       "      <td>2018-02-07 06:10:00</td>\n",
       "      <td>34.042475</td>\n",
       "      <td>-84.341786</td>\n",
       "      <td>34.339978</td>\n",
       "      <td>0.0</td>\n",
       "      <td>34.054650</td>\n",
       "      <td>-84.301371</td>\n",
       "      <td>33.918330</td>\n",
       "      <td>-84.210130</td>\n",
       "    </tr>\n",
       "    <tr>\n",
       "      <th>...</th>\n",
       "      <td>...</td>\n",
       "      <td>...</td>\n",
       "      <td>...</td>\n",
       "      <td>...</td>\n",
       "      <td>...</td>\n",
       "      <td>...</td>\n",
       "      <td>...</td>\n",
       "      <td>...</td>\n",
       "      <td>...</td>\n",
       "      <td>...</td>\n",
       "      <td>...</td>\n",
       "      <td>...</td>\n",
       "      <td>...</td>\n",
       "    </tr>\n",
       "    <tr>\n",
       "      <th>4660</th>\n",
       "      <td>5bb8220f51397c43486134c0</td>\n",
       "      <td>5c53cb78b9c0d306efc8a559</td>\n",
       "      <td>1e5fcd8d57a10111defbe772</td>\n",
       "      <td>2019-01-31 06:31:00</td>\n",
       "      <td>2019-01-31 08:01:00</td>\n",
       "      <td>34.042541</td>\n",
       "      <td>-84.341972</td>\n",
       "      <td>17.896607</td>\n",
       "      <td>0.0</td>\n",
       "      <td>34.229759</td>\n",
       "      <td>-84.112819</td>\n",
       "      <td>33.689488</td>\n",
       "      <td>-84.269628</td>\n",
       "    </tr>\n",
       "    <tr>\n",
       "      <th>4661</th>\n",
       "      <td>5b86546ab123120a1ca275b0</td>\n",
       "      <td>5c53a780d7266605c0e55b36</td>\n",
       "      <td>1e5fcd8d57a10111defbe772</td>\n",
       "      <td>2019-01-31 07:21:00</td>\n",
       "      <td>2019-01-31 07:40:00</td>\n",
       "      <td>34.042458</td>\n",
       "      <td>-84.342110</td>\n",
       "      <td>42.568818</td>\n",
       "      <td>0.0</td>\n",
       "      <td>34.033257</td>\n",
       "      <td>-84.327624</td>\n",
       "      <td>NaN</td>\n",
       "      <td>NaN</td>\n",
       "    </tr>\n",
       "    <tr>\n",
       "      <th>4662</th>\n",
       "      <td>5bab3554fa92310a3958d0b9</td>\n",
       "      <td>5c54b5d038a80e068a649478</td>\n",
       "      <td>1e5fcd8d57a10111defbe772</td>\n",
       "      <td>2019-01-31 20:00:00</td>\n",
       "      <td>2019-01-31 20:45:00</td>\n",
       "      <td>34.042603</td>\n",
       "      <td>-84.341873</td>\n",
       "      <td>27.340460</td>\n",
       "      <td>0.0</td>\n",
       "      <td>34.062414</td>\n",
       "      <td>-84.369323</td>\n",
       "      <td>34.207586</td>\n",
       "      <td>-84.137931</td>\n",
       "    </tr>\n",
       "    <tr>\n",
       "      <th>4663</th>\n",
       "      <td>59e8d4a56cffe51a61744066</td>\n",
       "      <td>5c54979b8452a0064be98569</td>\n",
       "      <td>1e5fcd8d57a10111defbe772</td>\n",
       "      <td>2019-01-31 20:00:00</td>\n",
       "      <td>2019-01-31 20:44:00</td>\n",
       "      <td>34.042564</td>\n",
       "      <td>-84.341812</td>\n",
       "      <td>20.062158</td>\n",
       "      <td>0.0</td>\n",
       "      <td>34.062892</td>\n",
       "      <td>-84.367646</td>\n",
       "      <td>33.927882</td>\n",
       "      <td>-84.347105</td>\n",
       "    </tr>\n",
       "    <tr>\n",
       "      <th>4664</th>\n",
       "      <td>5bb6ad66789bc04fcf56d60f</td>\n",
       "      <td>5c54d4018452a006674e5df2</td>\n",
       "      <td>1e5fcd8d57a10111defbe772</td>\n",
       "      <td>2019-01-31 20:03:00</td>\n",
       "      <td>2019-01-31 20:45:00</td>\n",
       "      <td>34.042831</td>\n",
       "      <td>-84.341690</td>\n",
       "      <td>27.340460</td>\n",
       "      <td>0.0</td>\n",
       "      <td>34.063416</td>\n",
       "      <td>-84.368529</td>\n",
       "      <td>33.847336</td>\n",
       "      <td>-84.370671</td>\n",
       "    </tr>\n",
       "  </tbody>\n",
       "</table>\n",
       "<p>4665 rows × 13 columns</p>\n",
       "</div>"
      ],
      "text/plain": [
       "                     device_id                  visit_id  \\\n",
       "0     594a32cf6cffe54257e0cd00  5a73432c3ac6de07416dc662   \n",
       "1     594a32cf6cffe54257e0cd00  5a74938d877eb20736fd2b4d   \n",
       "2     594a32cf6cffe54257e0cd00  5a788f7ac6d0690710963748   \n",
       "3     594a32cf6cffe54257e0cd00  5a79d9bd8233db078de2abd8   \n",
       "4     594a32cf6cffe54257e0cd00  5a7b2bcac80d6007efda45cc   \n",
       "...                        ...                       ...   \n",
       "4660  5bb8220f51397c43486134c0  5c53cb78b9c0d306efc8a559   \n",
       "4661  5b86546ab123120a1ca275b0  5c53a780d7266605c0e55b36   \n",
       "4662  5bab3554fa92310a3958d0b9  5c54b5d038a80e068a649478   \n",
       "4663  59e8d4a56cffe51a61744066  5c54979b8452a0064be98569   \n",
       "4664  5bb6ad66789bc04fcf56d60f  5c54d4018452a006674e5df2   \n",
       "\n",
       "                      venue_id    visit_start_time      visit_end_time  \\\n",
       "0     1e5fcd8d57a10111defbe772 2018-02-01 04:21:00 2018-02-01 06:40:00   \n",
       "1     1e5fcd8d57a10111defbe772 2018-02-02 04:21:00 2018-02-02 06:34:00   \n",
       "2     1e5fcd8d57a10111defbe772 2018-02-05 04:26:00 2018-02-05 06:20:00   \n",
       "3     1e5fcd8d57a10111defbe772 2018-02-06 04:24:00 2018-02-06 06:43:00   \n",
       "4     1e5fcd8d57a10111defbe772 2018-02-07 04:19:00 2018-02-07 06:10:00   \n",
       "...                        ...                 ...                 ...   \n",
       "4660  1e5fcd8d57a10111defbe772 2019-01-31 06:31:00 2019-01-31 08:01:00   \n",
       "4661  1e5fcd8d57a10111defbe772 2019-01-31 07:21:00 2019-01-31 07:40:00   \n",
       "4662  1e5fcd8d57a10111defbe772 2019-01-31 20:00:00 2019-01-31 20:45:00   \n",
       "4663  1e5fcd8d57a10111defbe772 2019-01-31 20:00:00 2019-01-31 20:44:00   \n",
       "4664  1e5fcd8d57a10111defbe772 2019-01-31 20:03:00 2019-01-31 20:45:00   \n",
       "\n",
       "      visit_lat  visit_long  visit_weight  customer_weight  user_home_lat  \\\n",
       "0     34.042449  -84.341747     35.509552              0.0      34.054306   \n",
       "1     34.042457  -84.341828     34.655801              0.0      34.054536   \n",
       "2     34.042660  -84.341847     34.229250              0.0      34.054606   \n",
       "3     34.042539  -84.341908     34.520717              0.0      34.052541   \n",
       "4     34.042475  -84.341786     34.339978              0.0      34.054650   \n",
       "...         ...         ...           ...              ...            ...   \n",
       "4660  34.042541  -84.341972     17.896607              0.0      34.229759   \n",
       "4661  34.042458  -84.342110     42.568818              0.0      34.033257   \n",
       "4662  34.042603  -84.341873     27.340460              0.0      34.062414   \n",
       "4663  34.042564  -84.341812     20.062158              0.0      34.062892   \n",
       "4664  34.042831  -84.341690     27.340460              0.0      34.063416   \n",
       "\n",
       "      user_home_long  user_work_lat  user_work_long  \n",
       "0         -84.299271      33.918793      -84.210145  \n",
       "1         -84.299138      33.917433      -84.209132  \n",
       "2         -84.301157      33.918846      -84.210032  \n",
       "3         -84.300257      33.917876      -84.211142  \n",
       "4         -84.301371      33.918330      -84.210130  \n",
       "...              ...            ...             ...  \n",
       "4660      -84.112819      33.689488      -84.269628  \n",
       "4661      -84.327624            NaN             NaN  \n",
       "4662      -84.369323      34.207586      -84.137931  \n",
       "4663      -84.367646      33.927882      -84.347105  \n",
       "4664      -84.368529      33.847336      -84.370671  \n",
       "\n",
       "[4665 rows x 13 columns]"
      ]
     },
     "execution_count": 44,
     "metadata": {},
     "output_type": "execute_result"
    }
   ],
   "source": [
    "df"
   ]
  },
  {
   "cell_type": "code",
   "execution_count": 4,
   "id": "c867f21b",
   "metadata": {},
   "outputs": [
    {
     "data": {
      "text/plain": [
       "device_id            654\n",
       "visit_id            4665\n",
       "venue_id               1\n",
       "visit_start_time    4569\n",
       "visit_end_time      4543\n",
       "visit_lat            971\n",
       "visit_long          1250\n",
       "visit_weight        3460\n",
       "customer_weight      125\n",
       "user_home_lat       4664\n",
       "user_home_long      4664\n",
       "user_work_lat       3918\n",
       "user_work_long      3918\n",
       "dtype: int64"
      ]
     },
     "execution_count": 4,
     "metadata": {},
     "output_type": "execute_result"
    }
   ],
   "source": [
    "df.nunique()"
   ]
  },
  {
   "cell_type": "code",
   "execution_count": 5,
   "id": "f7c8e56a",
   "metadata": {},
   "outputs": [
    {
     "data": {
      "text/plain": [
       "34.04251812726919"
      ]
     },
     "execution_count": 5,
     "metadata": {},
     "output_type": "execute_result"
    }
   ],
   "source": [
    "df.visit_lat.mean()"
   ]
  },
  {
   "cell_type": "code",
   "execution_count": 6,
   "id": "6a41f1a1",
   "metadata": {},
   "outputs": [
    {
     "data": {
      "text/plain": [
       "-84.34188311294976"
      ]
     },
     "execution_count": 6,
     "metadata": {},
     "output_type": "execute_result"
    }
   ],
   "source": [
    "df.visit_long.mean()"
   ]
  },
  {
   "cell_type": "code",
   "execution_count": 7,
   "id": "131b47af",
   "metadata": {},
   "outputs": [
    {
     "data": {
      "text/plain": [
       "31.633412452786644"
      ]
     },
     "execution_count": 7,
     "metadata": {},
     "output_type": "execute_result"
    }
   ],
   "source": [
    "df.visit_weight.mean()"
   ]
  },
  {
   "cell_type": "code",
   "execution_count": 8,
   "id": "f3c07122",
   "metadata": {},
   "outputs": [
    {
     "data": {
      "text/plain": [
       "26.190206023286045"
      ]
     },
     "execution_count": 8,
     "metadata": {},
     "output_type": "execute_result"
    }
   ],
   "source": [
    "df.customer_weight.mean()"
   ]
  },
  {
   "cell_type": "code",
   "execution_count": 9,
   "id": "3036e4ec",
   "metadata": {},
   "outputs": [
    {
     "data": {
      "text/plain": [
       "34.03745112309543"
      ]
     },
     "execution_count": 9,
     "metadata": {},
     "output_type": "execute_result"
    }
   ],
   "source": [
    "df.user_home_lat.mean()"
   ]
  },
  {
   "cell_type": "code",
   "execution_count": 10,
   "id": "74ce412a",
   "metadata": {},
   "outputs": [
    {
     "data": {
      "text/plain": [
       "-84.47988073734597"
      ]
     },
     "execution_count": 10,
     "metadata": {},
     "output_type": "execute_result"
    }
   ],
   "source": [
    "df.user_home_long.mean()"
   ]
  },
  {
   "cell_type": "code",
   "execution_count": 11,
   "id": "1cb7f8d4",
   "metadata": {},
   "outputs": [
    {
     "data": {
      "text/plain": [
       "34.00812814963509"
      ]
     },
     "execution_count": 11,
     "metadata": {},
     "output_type": "execute_result"
    }
   ],
   "source": [
    "df.user_work_lat.mean()"
   ]
  },
  {
   "cell_type": "code",
   "execution_count": 12,
   "id": "c7dc3aad",
   "metadata": {},
   "outputs": [
    {
     "data": {
      "text/plain": [
       "-84.36340834442565"
      ]
     },
     "execution_count": 12,
     "metadata": {},
     "output_type": "execute_result"
    }
   ],
   "source": [
    "df.user_work_long.mean()"
   ]
  },
  {
   "cell_type": "code",
   "execution_count": 13,
   "id": "355d5170",
   "metadata": {},
   "outputs": [],
   "source": [
    "#df.isnull().sum()  "
   ]
  },
  {
   "cell_type": "code",
   "execution_count": 14,
   "id": "b9515d3c",
   "metadata": {},
   "outputs": [],
   "source": [
    "#missing1 = df.user_work_lat.mean()"
   ]
  },
  {
   "cell_type": "code",
   "execution_count": 15,
   "id": "c7df1d62",
   "metadata": {},
   "outputs": [],
   "source": [
    "#df.user_work_lat = df.user_work_lat.fillna('missing1')"
   ]
  },
  {
   "cell_type": "code",
   "execution_count": 16,
   "id": "5509c57d",
   "metadata": {},
   "outputs": [
    {
     "data": {
      "text/plain": [
       "False"
      ]
     },
     "execution_count": 16,
     "metadata": {},
     "output_type": "execute_result"
    }
   ],
   "source": [
    "df.duplicated().any()"
   ]
  },
  {
   "cell_type": "code",
   "execution_count": 17,
   "id": "9ccccd57",
   "metadata": {},
   "outputs": [
    {
     "data": {
      "image/png": "[encoded data removed]",
      "text/plain": [
       "<Figure size 432x288 with 9 Axes>"
      ]
     },
     "metadata": {
      "needs_background": "light"
     },
     "output_type": "display_data"
    }
   ],
   "source": [
    "df.hist()\n",
    "plt.show()"
   ]
  },
  {
   "cell_type": "code",
   "execution_count": 18,
   "id": "1edbd1e5",
   "metadata": {},
   "outputs": [
    {
     "data": {
      "text/html": [
       "<div>\n",
       "<style scoped>\n",
       "    .dataframe tbody tr th:only-of-type {\n",
       "        vertical-align: middle;\n",
       "    }\n",
       "\n",
       "    .dataframe tbody tr th {\n",
       "        vertical-align: top;\n",
       "    }\n",
       "\n",
       "    .dataframe thead th {\n",
       "        text-align: right;\n",
       "    }\n",
       "</style>\n",
       "<table border=\"1\" class=\"dataframe\">\n",
       "  <thead>\n",
       "    <tr style=\"text-align: right;\">\n",
       "      <th></th>\n",
       "      <th>count</th>\n",
       "      <th>mean</th>\n",
       "      <th>std</th>\n",
       "      <th>min</th>\n",
       "      <th>25%</th>\n",
       "      <th>50%</th>\n",
       "      <th>75%</th>\n",
       "      <th>max</th>\n",
       "    </tr>\n",
       "  </thead>\n",
       "  <tbody>\n",
       "    <tr>\n",
       "      <th>visit_lat</th>\n",
       "      <td>4665.0</td>\n",
       "      <td>34.042518</td>\n",
       "      <td>0.000114</td>\n",
       "      <td>34.041801</td>\n",
       "      <td>34.042465</td>\n",
       "      <td>34.042515</td>\n",
       "      <td>34.042566</td>\n",
       "      <td>34.043159</td>\n",
       "    </tr>\n",
       "    <tr>\n",
       "      <th>visit_long</th>\n",
       "      <td>4665.0</td>\n",
       "      <td>-84.341883</td>\n",
       "      <td>0.000221</td>\n",
       "      <td>-84.343391</td>\n",
       "      <td>-84.342018</td>\n",
       "      <td>-84.341835</td>\n",
       "      <td>-84.341736</td>\n",
       "      <td>-84.341125</td>\n",
       "    </tr>\n",
       "    <tr>\n",
       "      <th>visit_weight</th>\n",
       "      <td>4665.0</td>\n",
       "      <td>31.633412</td>\n",
       "      <td>16.771900</td>\n",
       "      <td>7.706278</td>\n",
       "      <td>22.465854</td>\n",
       "      <td>28.729092</td>\n",
       "      <td>34.716838</td>\n",
       "      <td>183.033562</td>\n",
       "    </tr>\n",
       "    <tr>\n",
       "      <th>customer_weight</th>\n",
       "      <td>4665.0</td>\n",
       "      <td>26.190206</td>\n",
       "      <td>74.280995</td>\n",
       "      <td>0.000000</td>\n",
       "      <td>0.000000</td>\n",
       "      <td>0.000000</td>\n",
       "      <td>52.087857</td>\n",
       "      <td>752.172979</td>\n",
       "    </tr>\n",
       "    <tr>\n",
       "      <th>user_home_lat</th>\n",
       "      <td>4665.0</td>\n",
       "      <td>34.037451</td>\n",
       "      <td>0.616202</td>\n",
       "      <td>24.567692</td>\n",
       "      <td>34.020583</td>\n",
       "      <td>34.039154</td>\n",
       "      <td>34.057805</td>\n",
       "      <td>47.885243</td>\n",
       "    </tr>\n",
       "    <tr>\n",
       "      <th>user_home_long</th>\n",
       "      <td>4665.0</td>\n",
       "      <td>-84.479881</td>\n",
       "      <td>2.024699</td>\n",
       "      <td>-122.259301</td>\n",
       "      <td>-84.377689</td>\n",
       "      <td>-84.345723</td>\n",
       "      <td>-84.324316</td>\n",
       "      <td>-77.757116</td>\n",
       "    </tr>\n",
       "    <tr>\n",
       "      <th>user_work_lat</th>\n",
       "      <td>3918.0</td>\n",
       "      <td>34.008128</td>\n",
       "      <td>0.499724</td>\n",
       "      <td>25.932324</td>\n",
       "      <td>33.925082</td>\n",
       "      <td>34.041108</td>\n",
       "      <td>34.060266</td>\n",
       "      <td>47.609934</td>\n",
       "    </tr>\n",
       "    <tr>\n",
       "      <th>user_work_long</th>\n",
       "      <td>3918.0</td>\n",
       "      <td>-84.363408</td>\n",
       "      <td>0.751988</td>\n",
       "      <td>-122.326132</td>\n",
       "      <td>-84.375329</td>\n",
       "      <td>-84.344619</td>\n",
       "      <td>-84.309208</td>\n",
       "      <td>-77.047380</td>\n",
       "    </tr>\n",
       "  </tbody>\n",
       "</table>\n",
       "</div>"
      ],
      "text/plain": [
       "                  count       mean        std         min        25%  \\\n",
       "visit_lat        4665.0  34.042518   0.000114   34.041801  34.042465   \n",
       "visit_long       4665.0 -84.341883   0.000221  -84.343391 -84.342018   \n",
       "visit_weight     4665.0  31.633412  16.771900    7.706278  22.465854   \n",
       "customer_weight  4665.0  26.190206  74.280995    0.000000   0.000000   \n",
       "user_home_lat    4665.0  34.037451   0.616202   24.567692  34.020583   \n",
       "user_home_long   4665.0 -84.479881   2.024699 -122.259301 -84.377689   \n",
       "user_work_lat    3918.0  34.008128   0.499724   25.932324  33.925082   \n",
       "user_work_long   3918.0 -84.363408   0.751988 -122.326132 -84.375329   \n",
       "\n",
       "                       50%        75%         max  \n",
       "visit_lat        34.042515  34.042566   34.043159  \n",
       "visit_long      -84.341835 -84.341736  -84.341125  \n",
       "visit_weight     28.729092  34.716838  183.033562  \n",
       "customer_weight   0.000000  52.087857  752.172979  \n",
       "user_home_lat    34.039154  34.057805   47.885243  \n",
       "user_home_long  -84.345723 -84.324316  -77.757116  \n",
       "user_work_lat    34.041108  34.060266   47.609934  \n",
       "user_work_long  -84.344619 -84.309208  -77.047380  "
      ]
     },
     "execution_count": 18,
     "metadata": {},
     "output_type": "execute_result"
    }
   ],
   "source": [
    "df.describe().T"
   ]
  },
  {
   "cell_type": "code",
   "execution_count": 19,
   "id": "8115d9fe",
   "metadata": {},
   "outputs": [
    {
     "name": "stdout",
     "output_type": "stream",
     "text": [
      "Result1:  12.731759718941298 km\n"
     ]
    }
   ],
   "source": [
    "#Find Gym distance from home using Haversine formula\n",
    "from math import sin, cos, sqrt, atan2, radians\n",
    "\n",
    "# Approximate radius of earth in km\n",
    "R = 6373.0\n",
    "\n",
    "lat1 = radians(34.04251812726919) #visit_lat\n",
    "lon1 = radians(-84.34188311294976) #visit_long\n",
    "lat2 = radians(34.03745112309543) #home_lat\n",
    "lon2 = radians(-84.47988073734597) #home_long\n",
    "\n",
    "#difference\n",
    "dlon = lon2 - lon1\n",
    "dlat = lat2 - lat1\n",
    "\n",
    "a = sin(dlat / 2)**2 + cos(lat1) * cos(lat2) * sin(dlon / 2)**2  \n",
    "c = 2 * atan2(sqrt(a), sqrt(1 - a)) #final distance\n",
    "\n",
    "distance1 = R * c\n",
    "\n",
    "print(\"Result1: \", distance1, 'km')\n"
   ]
  },
  {
   "cell_type": "code",
   "execution_count": 20,
   "id": "7d24f48e",
   "metadata": {},
   "outputs": [],
   "source": [
    "#The first line calculates a value called \"a\", which is a part of the formula that involves the difference in latitudes \n",
    "#and longitudes between the two points. It first calculates the square of half the difference in latitudes, \n",
    "#sin(dlat/2)**2, and the square of half the difference in longitudes, sin(dlon/2)**2. \n",
    "#It then multiplies the latter by the cosine of the latitudes of the two points, cos(lat1) * cos(lat2), \n",
    "#and adds the two terms together.\n",
    "\n",
    "#The second line calculates the final distance value \"c\" by taking the inverse tangent of the square root of \"a\" divided by\n",
    "#the square root of 1 minus \"a\". It then multiplies this by 2 and multiplies the result by the radius of the Earth,\n",
    "#which is stored in the variable \"R\" in this code.\n",
    "#atan2 is a function that calculates the arctangent/inverse of two values, taking into account the signs of both inputs to \n",
    "#determine the quadrant of the result."
   ]
  },
  {
   "cell_type": "code",
   "execution_count": 21,
   "id": "97338aa4",
   "metadata": {},
   "outputs": [
    {
     "name": "stdout",
     "output_type": "stream",
     "text": [
      "Result2:  4.309252056964613 km\n"
     ]
    }
   ],
   "source": [
    "#Gym distance from work\n",
    "from math import sin, cos, sqrt, atan2, radians\n",
    "\n",
    "# Approximate radius of earth in km\n",
    "R = 6373.0\n",
    "\n",
    "lat1 = radians(34.04251812726919)\n",
    "lon1 = radians(-84.34188311294976)\n",
    "lat2 = radians(34.00812814963509)\n",
    "lon2 = radians(-84.36340834442565)\n",
    "\n",
    "dlon = lon2 - lon1\n",
    "dlat = lat2 - lat1\n",
    "\n",
    "a = sin(dlat / 2)**2 + cos(lat1) * cos(lat2) * sin(dlon / 2)**2\n",
    "c = 2 * atan2(sqrt(a), sqrt(1 - a))\n",
    "\n",
    "distance2 = R * c\n",
    "\n",
    "print(\"Result2: \", distance2, 'km')"
   ]
  },
  {
   "cell_type": "code",
   "execution_count": 22,
   "id": "bd03af0c",
   "metadata": {},
   "outputs": [
    {
     "name": "stdout",
     "output_type": "stream",
     "text": [
      "Total distance from home and work average member: 17.04101177590591 km\n"
     ]
    }
   ],
   "source": [
    "print('Total distance from home and work average member:',(12.731759718941298 + 4.309252056964613),'km')"
   ]
  },
  {
   "cell_type": "code",
   "execution_count": 23,
   "id": "2af2cf77",
   "metadata": {},
   "outputs": [],
   "source": [
    "final_data1 = pd.DataFrame({'Gym Name':['10790 Alpharetta Hwy','1570 Holcomb Bridge Road','13071 Highway 9, Milton','299 Molly Lane'],\n",
    "                          'Distance':[17.04, 8.08, 4.33, 8.55]})"
   ]
  },
  {
   "cell_type": "code",
   "execution_count": 24,
   "id": "d9678e0d",
   "metadata": {},
   "outputs": [
    {
     "data": {
      "text/html": [
       "<div>\n",
       "<style scoped>\n",
       "    .dataframe tbody tr th:only-of-type {\n",
       "        vertical-align: middle;\n",
       "    }\n",
       "\n",
       "    .dataframe tbody tr th {\n",
       "        vertical-align: top;\n",
       "    }\n",
       "\n",
       "    .dataframe thead th {\n",
       "        text-align: right;\n",
       "    }\n",
       "</style>\n",
       "<table border=\"1\" class=\"dataframe\">\n",
       "  <thead>\n",
       "    <tr style=\"text-align: right;\">\n",
       "      <th></th>\n",
       "      <th>Gym Name</th>\n",
       "      <th>Distance</th>\n",
       "    </tr>\n",
       "  </thead>\n",
       "  <tbody>\n",
       "    <tr>\n",
       "      <th>0</th>\n",
       "      <td>10790 Alpharetta Hwy</td>\n",
       "      <td>17.04</td>\n",
       "    </tr>\n",
       "    <tr>\n",
       "      <th>1</th>\n",
       "      <td>1570 Holcomb Bridge Road</td>\n",
       "      <td>8.08</td>\n",
       "    </tr>\n",
       "    <tr>\n",
       "      <th>2</th>\n",
       "      <td>13071 Highway 9, Milton</td>\n",
       "      <td>4.33</td>\n",
       "    </tr>\n",
       "    <tr>\n",
       "      <th>3</th>\n",
       "      <td>299 Molly Lane</td>\n",
       "      <td>8.55</td>\n",
       "    </tr>\n",
       "  </tbody>\n",
       "</table>\n",
       "</div>"
      ],
      "text/plain": [
       "                   Gym Name  Distance\n",
       "0      10790 Alpharetta Hwy     17.04\n",
       "1  1570 Holcomb Bridge Road      8.08\n",
       "2   13071 Highway 9, Milton      4.33\n",
       "3            299 Molly Lane      8.55"
      ]
     },
     "execution_count": 24,
     "metadata": {},
     "output_type": "execute_result"
    }
   ],
   "source": [
    "final_data1"
   ]
  },
  {
   "cell_type": "code",
   "execution_count": 42,
   "id": "fe910bbd",
   "metadata": {},
   "outputs": [
    {
     "data": {
      "text/plain": [
       "<AxesSubplot:xlabel='Gym Name', ylabel='Distance'>"
      ]
     },
     "execution_count": 42,
     "metadata": {},
     "output_type": "execute_result"
    },
    {
     "data": {
      "image/png": "[encoded data removed]",
      "text/plain": [
       "<Figure size 720x432 with 1 Axes>"
      ]
     },
     "metadata": {
      "needs_background": "light"
     },
     "output_type": "display_data"
    }
   ],
   "source": [
    "plt.figure(figsize=(10,6))\n",
    "sns.barplot(final_data1['Gym Name'],final_data1['Distance'])"
   ]
  },
  {
   "cell_type": "markdown",
   "id": "9f000e00",
   "metadata": {},
   "source": [
    "Because \"10790 Alpharetta Hwy\" Gym members are living and working relatively farway from this Gym address and people don’t like to drive much and prefer venues that are near their home or work that's why they are not going to this Gym. So most of the Gym members are not going to this Gym and ultimately this Gym is not performing well."
   ]
  },
  {
   "cell_type": "code",
   "execution_count": null,
   "id": "2ea9a0df",
   "metadata": {},
   "outputs": [],
   "source": [
    "#visit_weight and customer_weight"
   ]
  },
  {
   "cell_type": "code",
   "execution_count": 25,
   "id": "4ee61063",
   "metadata": {},
   "outputs": [
    {
     "data": {
      "text/plain": [
       "147569.86909225"
      ]
     },
     "execution_count": 25,
     "metadata": {},
     "output_type": "execute_result"
    }
   ],
   "source": [
    "df.visit_weight.sum() #sum up the visit_weight"
   ]
  },
  {
   "cell_type": "code",
   "execution_count": 26,
   "id": "308a5a06",
   "metadata": {},
   "outputs": [
    {
     "data": {
      "text/plain": [
       "122177.31109863"
      ]
     },
     "execution_count": 26,
     "metadata": {},
     "output_type": "execute_result"
    }
   ],
   "source": [
    "df.customer_weight.sum() #sum up the customer weight"
   ]
  },
  {
   "cell_type": "code",
   "execution_count": 27,
   "id": "1e8c7867",
   "metadata": {},
   "outputs": [
    {
     "name": "stdout",
     "output_type": "stream",
     "text": [
      "232 days 11:59:00\n"
     ]
    }
   ],
   "source": [
    "# convert columns to datetime\n",
    "df['visit_start_time'] = pd.to_datetime(df['visit_start_time'])\n",
    "df['visit_end_time'] = pd.to_datetime(df['visit_end_time'])\n",
    "\n",
    "# calculate time difference\n",
    "total_time_diff = df['visit_end_time'] - df['visit_start_time']\n",
    "total_time_diff_sum = total_time_diff.sum()\n",
    "\n",
    "# print the result\n",
    "print(total_time_diff_sum)"
   ]
  },
  {
   "cell_type": "code",
   "execution_count": 28,
   "id": "f1e193a8",
   "metadata": {},
   "outputs": [
    {
     "name": "stdout",
     "output_type": "stream",
     "text": [
      "5568 hours\n"
     ]
    }
   ],
   "source": [
    "#converted days to hours\n",
    "print(232*24,'hours')"
   ]
  },
  {
   "cell_type": "code",
   "execution_count": 29,
   "id": "4a141bb3",
   "metadata": {},
   "outputs": [
    {
     "name": "stdout",
     "output_type": "stream",
     "text": [
      "0.9833333333333333 hours\n"
     ]
    }
   ],
   "source": [
    "print(59/60,'hours')"
   ]
  },
  {
   "cell_type": "code",
   "execution_count": 30,
   "id": "3fda5ab7",
   "metadata": {},
   "outputs": [
    {
     "name": "stdout",
     "output_type": "stream",
     "text": [
      "5579.98 hours\n"
     ]
    }
   ],
   "source": [
    "print((5568+11+.98),'hours') #Total hours during the time from (2018-02-01 04:21:00) to (2019-01-31 20:45:00)"
   ]
  },
  {
   "cell_type": "code",
   "execution_count": 31,
   "id": "acac7a70",
   "metadata": {},
   "outputs": [
    {
     "data": {
      "text/plain": [
       "('Average visit_weight:', 26.44630788860355)"
      ]
     },
     "execution_count": 31,
     "metadata": {},
     "output_type": "execute_result"
    }
   ],
   "source": [
    "'Average visit_weight:',147569.86909225/5579.98"
   ]
  },
  {
   "cell_type": "code",
   "execution_count": 32,
   "id": "79716dfb",
   "metadata": {},
   "outputs": [
    {
     "data": {
      "text/plain": [
       "('Average customer_weight:', 21.8956539447507)"
      ]
     },
     "execution_count": 32,
     "metadata": {},
     "output_type": "execute_result"
    }
   ],
   "source": [
    "'Average customer_weight:',122177.31109863/5579.98"
   ]
  },
  {
   "cell_type": "code",
   "execution_count": 34,
   "id": "37a4d68e",
   "metadata": {},
   "outputs": [],
   "source": [
    "final_data2 = pd.DataFrame({'Gym Name':['10790 Alpharetta Hwy','1570 Holcomb Bridge Road','13071 Highway 9, Milton','299 Molly Lane'],\n",
    "                          'Visit_weight':[26.44, 24.08, 20.49, 22.29]})"
   ]
  },
  {
   "cell_type": "code",
   "execution_count": 35,
   "id": "2563031b",
   "metadata": {},
   "outputs": [
    {
     "data": {
      "text/html": [
       "<div>\n",
       "<style scoped>\n",
       "    .dataframe tbody tr th:only-of-type {\n",
       "        vertical-align: middle;\n",
       "    }\n",
       "\n",
       "    .dataframe tbody tr th {\n",
       "        vertical-align: top;\n",
       "    }\n",
       "\n",
       "    .dataframe thead th {\n",
       "        text-align: right;\n",
       "    }\n",
       "</style>\n",
       "<table border=\"1\" class=\"dataframe\">\n",
       "  <thead>\n",
       "    <tr style=\"text-align: right;\">\n",
       "      <th></th>\n",
       "      <th>Gym Name</th>\n",
       "      <th>Visit_weight</th>\n",
       "    </tr>\n",
       "  </thead>\n",
       "  <tbody>\n",
       "    <tr>\n",
       "      <th>0</th>\n",
       "      <td>10790 Alpharetta Hwy</td>\n",
       "      <td>26.44</td>\n",
       "    </tr>\n",
       "    <tr>\n",
       "      <th>1</th>\n",
       "      <td>1570 Holcomb Bridge Road</td>\n",
       "      <td>24.08</td>\n",
       "    </tr>\n",
       "    <tr>\n",
       "      <th>2</th>\n",
       "      <td>13071 Highway 9, Milton</td>\n",
       "      <td>20.49</td>\n",
       "    </tr>\n",
       "    <tr>\n",
       "      <th>3</th>\n",
       "      <td>299 Molly Lane</td>\n",
       "      <td>22.29</td>\n",
       "    </tr>\n",
       "  </tbody>\n",
       "</table>\n",
       "</div>"
      ],
      "text/plain": [
       "                   Gym Name  Visit_weight\n",
       "0      10790 Alpharetta Hwy         26.44\n",
       "1  1570 Holcomb Bridge Road         24.08\n",
       "2   13071 Highway 9, Milton         20.49\n",
       "3            299 Molly Lane         22.29"
      ]
     },
     "execution_count": 35,
     "metadata": {},
     "output_type": "execute_result"
    }
   ],
   "source": [
    "final_data2"
   ]
  },
  {
   "cell_type": "code",
   "execution_count": 36,
   "id": "a2d0d418",
   "metadata": {},
   "outputs": [
    {
     "data": {
      "text/plain": [
       "<AxesSubplot:xlabel='Gym Name', ylabel='Visit_weight'>"
      ]
     },
     "execution_count": 36,
     "metadata": {},
     "output_type": "execute_result"
    },
    {
     "data": {
      "image/png": "[encoded data removed]",
      "text/plain": [
       "<Figure size 720x432 with 1 Axes>"
      ]
     },
     "metadata": {
      "needs_background": "light"
     },
     "output_type": "display_data"
    }
   ],
   "source": [
    "plt.figure(figsize=(10,6))\n",
    "sns.barplot(final_data2['Gym Name'],final_data2['Visit_weight'])"
   ]
  },
  {
   "cell_type": "code",
   "execution_count": 37,
   "id": "5fb24a29",
   "metadata": {},
   "outputs": [],
   "source": [
    "final_data3 = pd.DataFrame({'Gym Name':['10790 Alpharetta Hwy','1570 Holcomb Bridge Road','13071 Highway 9, Milton','299 Molly Lane'],\n",
    "                          'Customer_weight':[21.89, 21.79, 15.06, 17.93]})"
   ]
  },
  {
   "cell_type": "code",
   "execution_count": 38,
   "id": "23d64ff3",
   "metadata": {},
   "outputs": [
    {
     "data": {
      "text/html": [
       "<div>\n",
       "<style scoped>\n",
       "    .dataframe tbody tr th:only-of-type {\n",
       "        vertical-align: middle;\n",
       "    }\n",
       "\n",
       "    .dataframe tbody tr th {\n",
       "        vertical-align: top;\n",
       "    }\n",
       "\n",
       "    .dataframe thead th {\n",
       "        text-align: right;\n",
       "    }\n",
       "</style>\n",
       "<table border=\"1\" class=\"dataframe\">\n",
       "  <thead>\n",
       "    <tr style=\"text-align: right;\">\n",
       "      <th></th>\n",
       "      <th>Gym Name</th>\n",
       "      <th>Customer_weight</th>\n",
       "    </tr>\n",
       "  </thead>\n",
       "  <tbody>\n",
       "    <tr>\n",
       "      <th>0</th>\n",
       "      <td>10790 Alpharetta Hwy</td>\n",
       "      <td>21.89</td>\n",
       "    </tr>\n",
       "    <tr>\n",
       "      <th>1</th>\n",
       "      <td>1570 Holcomb Bridge Road</td>\n",
       "      <td>21.79</td>\n",
       "    </tr>\n",
       "    <tr>\n",
       "      <th>2</th>\n",
       "      <td>13071 Highway 9, Milton</td>\n",
       "      <td>15.06</td>\n",
       "    </tr>\n",
       "    <tr>\n",
       "      <th>3</th>\n",
       "      <td>299 Molly Lane</td>\n",
       "      <td>17.93</td>\n",
       "    </tr>\n",
       "  </tbody>\n",
       "</table>\n",
       "</div>"
      ],
      "text/plain": [
       "                   Gym Name  Customer_weight\n",
       "0      10790 Alpharetta Hwy            21.89\n",
       "1  1570 Holcomb Bridge Road            21.79\n",
       "2   13071 Highway 9, Milton            15.06\n",
       "3            299 Molly Lane            17.93"
      ]
     },
     "execution_count": 38,
     "metadata": {},
     "output_type": "execute_result"
    }
   ],
   "source": [
    "final_data3"
   ]
  },
  {
   "cell_type": "code",
   "execution_count": 39,
   "id": "ea33c0f1",
   "metadata": {},
   "outputs": [
    {
     "data": {
      "text/plain": [
       "<AxesSubplot:xlabel='Gym Name', ylabel='Customer_weight'>"
      ]
     },
     "execution_count": 39,
     "metadata": {},
     "output_type": "execute_result"
    },
    {
     "data": {
      "image/png": "[encoded data removed]",
      "text/plain": [
       "<Figure size 720x432 with 1 Axes>"
      ]
     },
     "metadata": {
      "needs_background": "light"
     },
     "output_type": "display_data"
    }
   ],
   "source": [
    "plt.figure(figsize=(10,6))\n",
    "sns.barplot(final_data3['Gym Name'],final_data3['Customer_weight'])"
   ]
  },
  {
   "cell_type": "markdown",
   "id": "68c68831",
   "metadata": {},
   "source": [
    "#1. Customer_weight is the extrapolated value of the visitor(Device ID). Loyal Customer, customer time spent,customer money spent and relatively remote customer got more customer_weight \n",
    "#2. visit_weight column the extrapolated value of the raw visit.This column that contains weights assigned to each observation or data point, which can be used to adjust the contribution of that observation to statistical analysis or modeling. It depends on day or week, peak or off peak, "
   ]
  },
  {
   "cell_type": "code",
   "execution_count": 40,
   "id": "03b4b16d",
   "metadata": {},
   "outputs": [],
   "source": [
    "final_data4 = pd.DataFrame({'Gym Name':['10790 Alpharetta Hwy','1570 Holcomb Bridge Road','13071 Highway 9, Milton','299 Molly Lane'],\n",
    "                          'device_id':[654, 2068, 899, 1665],\n",
    "                           'visit_id':[4665,6313,6990,11757]})"
   ]
  },
  {
   "cell_type": "code",
   "execution_count": 41,
   "id": "98abc881",
   "metadata": {},
   "outputs": [
    {
     "name": "stdout",
     "output_type": "stream",
     "text": [
      "                   Gym Name  device_id  visit_id\n",
      "0      10790 Alpharetta Hwy        654      4665\n",
      "1  1570 Holcomb Bridge Road       2068      6313\n",
      "2   13071 Highway 9, Milton        899      6990\n",
      "3            299 Molly Lane       1665     11757\n"
     ]
    }
   ],
   "source": [
    "print(final_data4)"
   ]
  },
  {
   "cell_type": "markdown",
   "id": "7283319d",
   "metadata": {},
   "source": [
    "10790 Alpharetta Hwy Gym have lowest members only 654 among all other Gym because of high distance and high visit_weight, customer_weight."
   ]
  }
 ],
 "metadata": {
  "kernelspec": {
   "display_name": "Python 3 (ipykernel)",
   "language": "python",
   "name": "python3"
  },
  "language_info": {
   "codemirror_mode": {
    "name": "ipython",
    "version": 3
   },
   "file_extension": ".py",
   "mimetype": "text/x-python",
   "name": "python",
   "nbconvert_exporter": "python",
   "pygments_lexer": "ipython3",
   "version": "3.9.7"
  }
 },
 "nbformat": 4,
 "nbformat_minor": 5
}
